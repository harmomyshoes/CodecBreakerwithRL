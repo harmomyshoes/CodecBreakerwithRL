{
 "cells": [
  {
   "cell_type": "code",
   "execution_count": 1,
   "id": "d2f9b0f5-1146-4795-801b-717b6e07da70",
   "metadata": {},
   "outputs": [],
   "source": [
    "import numpy as np\n",
    "import pandas as pd\n",
    "from CODECbreakCode.AudioMixer import SingleFileAudioMixer\n",
    "import CODECbreakCode.Evaluator as Evaluator\n",
    "from CODECbreakCode.Evaluator import MeasureHAAQIOutput\n",
    "import CODECbreakCode.NoiseEval as NEUtil\n",
    "from Optimiser.config import get_config, normalize_action, denormalize_action\n",
    "import argparse"
   ]
  },
  {
   "cell_type": "code",
   "execution_count": 2,
   "id": "c251105f-93b4-448d-b62a-559635203fea",
   "metadata": {},
   "outputs": [],
   "source": [
    "import warnings\n",
    "warnings.filterwarnings(\"ignore\", \"Possible clipped samples in output.\")\n",
    "warnings.filterwarnings(\"ignore\",message=\"Warning: input samples dtype is np.float64. Converting to np.float32\")"
   ]
  },
  {
   "cell_type": "code",
   "execution_count": 3,
   "id": "aaaadc5d-897c-45b1-b2be-46e07c9951ee",
   "metadata": {},
   "outputs": [
    {
     "name": "stdout",
     "output_type": "stream",
     "text": [
      "Audio duration orginal is 17.462666666666667 seconds, now is the 8.0, the audio changing to the MONO\n",
      "Referece_MP3File:/home/codecrack/CodecBreakerwithRL/AudioEX/Mixing_Result_Mp3_Wav/Reference_64kbps.wav\n"
     ]
    }
   ],
   "source": [
    "Mixing_Path = '/home/codecrack/CodecBreakerwithRL/AudioEX/'\n",
    "Noise_Generator_MP3 = SingleFileAudioMixer(filename=\"reggae.wav\", foldpath=Mixing_Path, TrackType = NEUtil.MixingType.File)\n",
    "Referece_File,_ = Noise_Generator_MP3.TestNoisedOnlyFile([0,0,0,0],\"Reference.wav\")\n",
    "Referece_File\n",
    "Referece_MP3File = Evaluator.Mp3LameLossyCompress(Referece_File,64)\n",
    "print(f\"Referece_MP3File:{Referece_MP3File}\")"
   ]
  },
  {
   "cell_type": "code",
   "execution_count": 4,
   "id": "6b82c5aa-3fb0-46dd-8d5d-7373dedc7fe2",
   "metadata": {},
   "outputs": [
    {
     "data": {
      "text/plain": [
       "0.9985486851366765"
      ]
     },
     "execution_count": 4,
     "metadata": {},
     "output_type": "execute_result"
    }
   ],
   "source": [
    "####initalise the Haaqi\n",
    "MeasureHAAQI = MeasureHAAQIOutput(Referece_MP3File)#Initilize the HAAQI with a permanent reference\n",
    "MeasureHAAQI.MeasureHAQQIOutput(Referece_MP3File) #Test on how far from itself to itself"
   ]
  },
  {
   "cell_type": "code",
   "execution_count": 5,
   "id": "d26ea51a-a7ce-461c-8d2e-e9ae0f35d0ad",
   "metadata": {},
   "outputs": [],
   "source": [
    "import tempfile\n",
    "import os\n",
    "BASE_DIR = \"/home/codecrack/CodecBreakerwithRL/AudioEX/Mixing_Result\"\n",
    "TMP_SUBDIR = os.path.join(BASE_DIR, \"tmp\")\n",
    "\n",
    "# make sure it exists once at startup:\n",
    "os.makedirs(TMP_SUBDIR, exist_ok=True)\n",
    "def haaqi_reward_muti_fn(solution: np.ndarray, is_normalised=True) -> float:\n",
    "    if is_normalised:\n",
    "        solution = denormalize_action(solution)\n",
    "    print(f'solution:{solution}')\n",
    "    thre, ratio, attack, release = solution\n",
    "\n",
    "    # Create a unique temp‐file name\n",
    "    fd, degradated_filename = tempfile.mkstemp(prefix=\"dynC_\", suffix=\".wav\")\n",
    "    os.close(fd)  # we’ll let your compressor write to that path\n",
    "\n",
    "    try:\n",
    "        gener_Audio = Noise_Generator_MP3.TestNoisedOnlyFileOnlyDynamicCompressor(\n",
    "            outputfilename=degradated_filename,\n",
    "            threshold=thre,\n",
    "            ratio=ratio,\n",
    "            attack=attack,\n",
    "            release=release)\n",
    "        gener_Audio_mp3 = Evaluator.Mp3LameLossyCompress(gener_Audio, 64)\n",
    "        score = MeasureHAAQI.MeasureHAQQIOutput(gener_Audio_mp3)\n",
    "    finally:\n",
    "        # clean up\n",
    "        try:\n",
    "            os.remove(degradated_filename)\n",
    "        except OSError:\n",
    "            pass\n",
    "\n",
    "    return round(1 - score, 3)"
   ]
  },
  {
   "cell_type": "code",
   "execution_count": 8,
   "id": "23e38aa5-06dd-4dad-acb8-ad3d72888572",
   "metadata": {},
   "outputs": [
    {
     "name": "stdout",
     "output_type": "stream",
     "text": [
      "All files and folders in '/home/codecrack/CodecBreakerwithRL/AudioEX//Mixing_Result' have been removed.\n"
     ]
    }
   ],
   "source": [
    "Noise_Generator_MP3.EraseTheMp3Mixing()"
   ]
  },
  {
   "cell_type": "code",
   "execution_count": null,
   "id": "1850973c-eb43-46f1-ae2a-38f8035dc12f",
   "metadata": {},
   "outputs": [],
   "source": [
    "import Optimiser.continous_RL_train\n",
    "from Optimiser.continous_RL_train import continous_RL_train as CRLTrain"
   ]
  },
  {
   "cell_type": "code",
   "execution_count": null,
   "id": "0725d6b6-b91a-4b8e-b31d-12b96f803ef1",
   "metadata": {},
   "outputs": [],
   "source": [
    "trainner = CRLTrain(sub_episode_length=3, sub_episode_num_single_batch=2, env_num=4)\n",
    "trainner.set_environments(haaqi_reward_muti_fn)\n",
    "trainner.train(update_num=3, eval_intv=1)"
   ]
  },
  {
   "cell_type": "markdown",
   "id": "20fe2640-9299-4799-a2dd-e3dc83ee06ae",
   "metadata": {},
   "source": [
    "### GA Setting"
   ]
  },
  {
   "cell_type": "code",
   "execution_count": null,
   "id": "cc1872c7-cdd5-425a-a7c8-3067da75a3c1",
   "metadata": {},
   "outputs": [],
   "source": [
    "import Optimiser.genetic_evo\n",
    "from Optimiser.genetic_evo import GeneticOptimiser"
   ]
  },
  {
   "cell_type": "code",
   "execution_count": null,
   "id": "4926dd10-34ed-4ab5-8f2e-f05a2cad43e8",
   "metadata": {},
   "outputs": [],
   "source": [
    "import multiprocessing\n",
    "n_cores = multiprocessing.cpu_count()"
   ]
  },
  {
   "cell_type": "code",
   "execution_count": null,
   "id": "225c0f7a-ca5f-469b-88ae-ad881eb1d32b",
   "metadata": {},
   "outputs": [],
   "source": [
    "n_cores"
   ]
  },
  {
   "cell_type": "code",
   "execution_count": null,
   "id": "96458253-a83d-4cf3-adfc-da08f7bf376b",
   "metadata": {},
   "outputs": [],
   "source": [
    "GA_Opt = GeneticOptimiser()\n",
    "GA_Opt.ga_init_env()\n",
    "GA_Opt.set_fitnessfun(haaqi_reward_muti_fn)"
   ]
  },
  {
   "cell_type": "code",
   "execution_count": null,
   "id": "7ac120fc-836f-4e70-9e11-9fab2de309b6",
   "metadata": {},
   "outputs": [],
   "source": [
    "%%timeit -n 1 -r 1\n",
    "GA_Opt.run(num_generations = 3,sol_per_pop = 5, parallel_processing=4)"
   ]
  },
  {
   "cell_type": "markdown",
   "id": "bb6369f3-d383-4c4d-8e93-81f886472651",
   "metadata": {},
   "source": [
    "### Mento Carlos"
   ]
  },
  {
   "cell_type": "code",
   "execution_count": 6,
   "id": "0bd1c8c2-977f-40fe-bd2f-0b510a78d74d",
   "metadata": {},
   "outputs": [],
   "source": [
    "import Optimiser.mc_opt\n",
    "from Optimiser.mc_opt_multi import MonteCarloMultiOptimiser"
   ]
  },
  {
   "cell_type": "code",
   "execution_count": 7,
   "id": "0bb86a0b-c39a-4178-a3da-af4ed0b32bbf",
   "metadata": {},
   "outputs": [
    {
     "name": "stdout",
     "output_type": "stream",
     "text": [
      "Step 1: sampling 3 candidates\n",
      "solution:[-13.69   9.42  16.5  101.1 ]solution:[-10.89   3.43   1.78 106.61]solution:[ -5.6    9.21  12.53 391.8 ]\n",
      "\n",
      "\n",
      "solution:[ -4.28   1.3   14.86 170.26]solution:[-29.15   2.12  13.74 358.88]solution:[ -4.1    5.87   6.69 269.07]\n",
      "\n",
      "\n",
      "Step 1: received 3 rewards\n",
      " Step 1/5 → best R = 0.082 with solution [-13.69   9.42  16.5  101.1 ]\n",
      "Step 2: sampling 3 candidates\n",
      "solution:[-11.54   4.45  19.95 492.33]solution:[-25.95   7.49  10.98 224.1 ]solution:[ -9.43   6.85  14.08 255.57]\n",
      "\n",
      "\n",
      "Step 2: received 3 rewards\n",
      " Step 2/5 → best R = 0.149 with solution [-29.15   2.12  13.74 358.88]\n",
      "Step 3: sampling 3 candidates\n",
      "solution:[-12.85   3.9   12.29 235.16]solution:[-15.42   9.01  18.75 243.12]solution:[-18.25   9.01   5.32 349.27]\n",
      "\n",
      "\n",
      "Step 3: received 3 rewards\n",
      " Step 3/5 → best R = 0.172 with solution [-25.95   7.49  10.98 224.1 ]\n",
      "Step 4: sampling 3 candidates\n",
      "solution:[ -3.71   1.53   7.39 160.11]solution:[-27.48   8.49  15.95 195.75]\n",
      "solution:[-16.49   8.17   5.38 120.81]\n",
      "\n",
      "Step 4: received 3 rewards\n",
      " Step 4/5 → best R = 0.142 with solution [-18.25   9.01   5.32 349.27]\n",
      "Step 5: sampling 3 candidates\n",
      "Step 5: received 3 rewards\n",
      " Step 5/5 → best R = 0.171 with solution [-27.48   8.49  15.95 195.75]\n",
      "30.4 s ± 0 ns per loop (mean ± std. dev. of 1 run, 1 loop each)\n"
     ]
    }
   ],
   "source": [
    "%%timeit -n 1 -r 1\n",
    "mc = MonteCarloMultiOptimiser(reward_fn = haaqi_reward_muti_fn)\n",
    "per_step_bests = mc.optimise_by_steps(n_steps=5, sampling_per_step=3)"
   ]
  },
  {
   "cell_type": "code",
   "execution_count": null,
   "id": "bc54ade9-4ef5-4c9c-87ff-7617b0f0f956",
   "metadata": {},
   "outputs": [],
   "source": [
    "import Optimiser.mc_opt\n",
    "from Optimiser.mc_opt import MonteCarloOptimiser"
   ]
  },
  {
   "cell_type": "code",
   "execution_count": null,
   "id": "b561b40a-2102-48b7-8899-1a6a7c92a089",
   "metadata": {},
   "outputs": [],
   "source": [
    "%%timeit -n 1 -r 1\n",
    "mc = MonteCarloOptimiser(reward_fn = haaqi_reward_muti_fn)\n",
    "per_step_bests = mc.optimise_by_steps(n_steps=5, sampling_per_step=3)"
   ]
  },
  {
   "cell_type": "code",
   "execution_count": null,
   "id": "c0985b84-027e-402c-9921-23d63569c216",
   "metadata": {},
   "outputs": [],
   "source": []
  }
 ],
 "metadata": {
  "kernelspec": {
   "display_name": "Python 3 (ipykernel)",
   "language": "python",
   "name": "python3"
  },
  "language_info": {
   "codemirror_mode": {
    "name": "ipython",
    "version": 3
   },
   "file_extension": ".py",
   "mimetype": "text/x-python",
   "name": "python",
   "nbconvert_exporter": "python",
   "pygments_lexer": "ipython3",
   "version": "3.10.18"
  }
 },
 "nbformat": 4,
 "nbformat_minor": 5
}
