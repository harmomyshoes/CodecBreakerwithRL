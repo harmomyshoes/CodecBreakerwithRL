{
 "cells": [
  {
   "cell_type": "markdown",
   "id": "b861a11c-c8be-4386-a6c3-88e4351fcc9d",
   "metadata": {},
   "source": [
    "### Import mix module "
   ]
  },
  {
   "cell_type": "code",
   "execution_count": 1,
   "id": "89d00b6e-07fc-42a7-8f50-fc6d58ef3e2a",
   "metadata": {},
   "outputs": [],
   "source": [
    "import numpy as np\n",
    "import pandas as pd\n",
    "from CODECbreakCode.AudioMixer import SingleFileAudioMixer\n",
    "import CODECbreakCode.Evaluator as Evaluator\n",
    "from CODECbreakCode.Evaluator import MeasureHAAQIOutput\n",
    "import CODECbreakCode.NoiseEval as NEUtil\n",
    "from Optimiser.config import get_config, normalize_action, denormalize_action\n",
    "import argparse"
   ]
  },
  {
   "cell_type": "code",
   "execution_count": 2,
   "id": "c93df550-88b7-47ca-9557-2ce72933aa6a",
   "metadata": {},
   "outputs": [],
   "source": [
    "import warnings\n",
    "warnings.filterwarnings(\"ignore\", \"Possible clipped samples in output.\")\n",
    "warnings.filterwarnings(\"ignore\",message=\"Warning: input samples dtype is np.float64. Converting to np.float32\")"
   ]
  },
  {
   "cell_type": "code",
   "execution_count": 3,
   "id": "3d863747-3207-4dca-8ad2-6e7a83e5ac69",
   "metadata": {},
   "outputs": [
    {
     "name": "stdout",
     "output_type": "stream",
     "text": [
      "Audio duration orginal is 17.462666666666667 seconds, now is the 8.0, the audio changing to the MONO\n",
      "Referece_MP3File:/home/codecrack/CodecBreakerwithRL/AudioEX/Mixing_Result_Mp3_Wav/Reference_64kbps.wav\n"
     ]
    }
   ],
   "source": [
    "Mixing_Path = '/home/codecrack/CodecBreakerwithRL/AudioEX/'\n",
    "Noise_Generator_MP3 = SingleFileAudioMixer(filename=\"reggae.wav\", foldpath=Mixing_Path, TrackType = NEUtil.MixingType.File)\n",
    "Referece_File,_ = Noise_Generator_MP3.TestNoisedOnlyFile([0,0,0,0],\"Reference.wav\")\n",
    "Referece_File\n",
    "Referece_MP3File = Evaluator.Mp3LameLossyCompress(Referece_File,64)\n",
    "print(f\"Referece_MP3File:{Referece_MP3File}\")"
   ]
  },
  {
   "cell_type": "code",
   "execution_count": 4,
   "id": "18d7f839-a034-4126-84a1-af42081c2a6f",
   "metadata": {},
   "outputs": [
    {
     "data": {
      "text/plain": [
       "0.9985486850747627"
      ]
     },
     "execution_count": 4,
     "metadata": {},
     "output_type": "execute_result"
    }
   ],
   "source": [
    "####initalise the Haaqi\n",
    "MeasureHAAQI = MeasureHAAQIOutput(Referece_MP3File)#Initilize the HAAQI with a permanent reference\n",
    "MeasureHAAQI.MeasureHAQQIOutput(Referece_MP3File) #Test on how far from itself to itself"
   ]
  },
  {
   "cell_type": "code",
   "execution_count": null,
   "id": "a5f38d28-f3b8-46ff-8c1c-c47b076d1f05",
   "metadata": {},
   "outputs": [],
   "source": [
    "denormalize_action(np.array([-3.604144,0.5862619,-1.3705522,-1.853153]))"
   ]
  },
  {
   "cell_type": "code",
   "execution_count": 9,
   "id": "012f1950-ff0d-4756-87b5-6078148e99bc",
   "metadata": {},
   "outputs": [],
   "source": [
    "def haaqi_reward_fn(solution: np.ndarray, is_normalised = True) -> float:\n",
    "    if is_normalised:\n",
    "        solution = denormalize_action(solution)\n",
    "    print(f'solution:{solution}')\n",
    "    thre, ratio, attack, release = solution\n",
    "    degradated_filename = f'audio_mixing_reggea_dynC_thre_{thre}_ratio_{ratio}_attk_{attack}_rele_{release}.wav'\n",
    "    gener_Audio = Noise_Generator_MP3.TestNoisedOnlyFileOnlyDynamicCompressor(outputfilename = degradated_filename,\n",
    "                                                               threshold = thre,\n",
    "                                                               ratio = ratio,\n",
    "                                                               attack = attack,\n",
    "                                                               release = release)\n",
    "    gener_Audio_mp3 = Evaluator.Mp3LameLossyCompress(gener_Audio,64)\n",
    "    score = MeasureHAAQI.MeasureHAQQIOutput(gener_Audio_mp3)\n",
    "#    print(f\"Current degraded thre:{thre}, ratio: {ratio}, attack:{attack},release:{release} bring the HAAQI score to {score}\")\n",
    "    return round(1-score,3)"
   ]
  },
  {
   "cell_type": "code",
   "execution_count": null,
   "id": "77209ed8-42c9-4f23-9257-7f0bd900d88d",
   "metadata": {},
   "outputs": [],
   "source": [
    "###inital\n",
    "haaqi_reward_fn(np.array([-30. ,   8.1,   1. , 100.]),False)"
   ]
  },
  {
   "cell_type": "code",
   "execution_count": null,
   "id": "e85c3993-ff11-4bc7-ac2c-d4bfb31be3d5",
   "metadata": {},
   "outputs": [],
   "source": [
    "import numpy as np\n",
    "m1=np.array([-0.5,-0.5,-0.5,-0.5])\n",
    "m2=np.array([0.5,0.5,0.5,0.5])\n",
    "\n",
    "def f(x):\n",
    "    return -np.sum(np.log(np.sum((x-m1)**2)+0.00001)-np.log(np.sum((x-m2)**2)+0.01))"
   ]
  },
  {
   "cell_type": "markdown",
   "id": "97bf03c6-8630-4937-9e97-2a379641f40c",
   "metadata": {},
   "source": [
    "## Ranking"
   ]
  },
  {
   "cell_type": "markdown",
   "id": "5ef7f0de-57f9-4c61-a5f9-56bfb6f780fe",
   "metadata": {
    "jp-MarkdownHeadingCollapsed": true,
    "jupyter": {
     "source_hidden": true
    }
   },
   "source": [
    "### function"
   ]
  },
  {
   "cell_type": "code",
   "execution_count": null,
   "id": "64f63fde-d258-41fa-bd65-9644ab469049",
   "metadata": {},
   "outputs": [],
   "source": [
    "######ranking corresspoding funciton \n",
    "def haaqi_reward_fn(solution: np.ndarray) -> float:\n",
    "    thre = solution[0]\n",
    "    thre = thre - 15\n",
    "    ratio = solution[1]\n",
    "    ratio = ratio + 5\n",
    "    attack = solution[2]\n",
    "    attack = attack + 10\n",
    "    release = solution[3] \n",
    "    release = release + 300\n",
    "    degradated_filename = f'audio_mixing_reggea_dynC_thre_{thre}_ratio_{ratio}_attk_{attack}_rele_{release}.wav'\n",
    "    gener_Audio = Noise_Generator_MP3.TestNoisedOnlyFileOnlyDynamicCompressor(outputfilename = degradated_filename,\n",
    "                                                               threshold = thre,\n",
    "                                                               ratio = ratio,\n",
    "                                                               attack = attack,\n",
    "                                                               release = release)\n",
    "    gener_Audio_mp3 = Evaluator.Mp3LameLossyCompress(gener_Audio,64)\n",
    "    score = MeasureHAAQI.MeasureHAQQIOutput(gener_Audio_mp3)\n",
    "#    print(f\"Current degraded thre:{thre}, ratio: {ratio}, attack:{attack},release:{release} bring the HAAQI score to {score}\")\n",
    "    return 1-score"
   ]
  },
  {
   "cell_type": "markdown",
   "id": "6e4d4eb2-d98f-4ad9-b310-244abbea44fe",
   "metadata": {
    "jupyter": {
     "source_hidden": true
    }
   },
   "source": [
    "### GA"
   ]
  },
  {
   "cell_type": "code",
   "execution_count": null,
   "id": "5e5e5016-37b2-416f-b0f1-9eb805385224",
   "metadata": {},
   "outputs": [],
   "source": [
    "###Worst result for GA Until the 11.July\n",
    "###haaqi_reward_fn(np.array([-12.4, 2.7, -6.8, -56]))\n",
    "####Worst result for GA Until the 12.July \n",
    "haaqi_reward_fn(np.array([-14.9, 3.3, -9.0, -193]))"
   ]
  },
  {
   "cell_type": "markdown",
   "id": "a9b303fd-575c-46b0-b917-c579128b7ab2",
   "metadata": {
    "jp-MarkdownHeadingCollapsed": true,
    "jupyter": {
     "source_hidden": true
    }
   },
   "source": [
    "### RL in Continous"
   ]
  },
  {
   "cell_type": "code",
   "execution_count": null,
   "id": "8358b863-572b-49b1-a78d-0f38c772ff50",
   "metadata": {},
   "outputs": [],
   "source": [
    "####Worst result for GA Until the 12.July [-1.2019364  -5.0801964  -3.631278  -54.986313]\n",
    "haaqi_reward_fn(np.array([-1.2019,-5.0801,-3.6313,-54.9863]))"
   ]
  },
  {
   "cell_type": "markdown",
   "id": "81cc47e1-03b7-4be2-bd0e-48111f1e2ec7",
   "metadata": {},
   "source": [
    "### File Clear"
   ]
  },
  {
   "cell_type": "code",
   "execution_count": null,
   "id": "018f17af-e459-40e9-8f07-f9fda69ada09",
   "metadata": {},
   "outputs": [],
   "source": [
    "Noise_Generator_MP3.EraseTheMp3Mixing()"
   ]
  },
  {
   "cell_type": "markdown",
   "id": "9479d3e9-01f9-4cc4-bb71-ec17d0cfb651",
   "metadata": {
    "jp-MarkdownHeadingCollapsed": true,
    "jupyter": {
     "source_hidden": true
    }
   },
   "source": [
    "### Import Discrete RL module"
   ]
  },
  {
   "cell_type": "code",
   "execution_count": null,
   "id": "2a841a29-0045-4ff6-a59f-0aa08ea272e2",
   "metadata": {},
   "outputs": [],
   "source": [
    "import Optimiser"
   ]
  },
  {
   "cell_type": "code",
   "execution_count": null,
   "id": "87b93225-1b54-42e5-ad94-0f33707d18e0",
   "metadata": {},
   "outputs": [],
   "source": [
    "import Optimiser.discrete_RL_train\n",
    "from Optimiser.discrete_RL_train import discrete_RL_train as RLTrain"
   ]
  },
  {
   "cell_type": "code",
   "execution_count": null,
   "id": "b75bdcf0-7888-4c2d-b2aa-ea0aad3ac02f",
   "metadata": {
    "scrolled": true
   },
   "outputs": [],
   "source": [
    "trainner = RLTrain()\n",
    "trainner.set_environments(haaqi_reward_fn)\n",
    "trainner.train()"
   ]
  },
  {
   "cell_type": "code",
   "execution_count": null,
   "id": "39dc7545-65b7-4895-a94f-9ee28ebd14b1",
   "metadata": {},
   "outputs": [],
   "source": [
    "###Worst result for discrete ReinforcementL Until the 11.July\n",
    "haaqi_reward_fn(np.array([ -3.9 ,  -0.5 ,  -4.4 , -52.72]))"
   ]
  },
  {
   "cell_type": "code",
   "execution_count": null,
   "id": "eb6cd6be-9a29-4fed-898d-9d546fba6a3a",
   "metadata": {},
   "outputs": [],
   "source": []
  },
  {
   "cell_type": "markdown",
   "id": "3dc3f180-42ea-4377-81e7-293e8d053e2e",
   "metadata": {},
   "source": [
    "### Import Continous RL"
   ]
  },
  {
   "cell_type": "code",
   "execution_count": null,
   "id": "8b55d64d-deb0-42a6-bd17-1ac6cf3eda26",
   "metadata": {},
   "outputs": [],
   "source": [
    "import Optimiser"
   ]
  },
  {
   "cell_type": "code",
   "execution_count": null,
   "id": "cc061f54-6ccb-44de-afd5-f5d7b7d57fd2",
   "metadata": {},
   "outputs": [],
   "source": [
    "import Optimiser.continous_RL_train\n",
    "from Optimiser.continous_RL_train import continous_RL_train as CRLTrain"
   ]
  },
  {
   "cell_type": "code",
   "execution_count": null,
   "id": "f823ae2d-88a2-435c-b874-50d94c8012ab",
   "metadata": {
    "scrolled": true
   },
   "outputs": [],
   "source": [
    "trainner = CRLTrain()\n",
    "trainner.set_environments(haaqi_reward_fn)\n",
    "trainner.train()"
   ]
  },
  {
   "cell_type": "code",
   "execution_count": null,
   "id": "0fb77526-f3e9-48e9-ba53-52f925f8b751",
   "metadata": {},
   "outputs": [],
   "source": [
    "RL_data, RL_F_data = trainner.save_results(filefold=Mixing_Path, para_columns=['Thre','Ratio','Attk','Release'],is_outputfulldata = False)"
   ]
  },
  {
   "cell_type": "code",
   "execution_count": null,
   "id": "fd3564a7-5098-4e3d-91ea-387362bb3d2e",
   "metadata": {},
   "outputs": [],
   "source": [
    "final_reward_list"
   ]
  },
  {
   "cell_type": "code",
   "execution_count": null,
   "id": "88f6c096-6779-4c9f-b274-bcd8836a4416",
   "metadata": {},
   "outputs": [],
   "source": [
    "REINFORCE_logs"
   ]
  },
  {
   "cell_type": "markdown",
   "id": "3e10092f-80eb-4058-9065-64b357bd7981",
   "metadata": {},
   "source": [
    "### Import GA module"
   ]
  },
  {
   "cell_type": "code",
   "execution_count": null,
   "id": "c66cd119-2e83-4518-9597-12b468ca3cfd",
   "metadata": {},
   "outputs": [],
   "source": [
    "import Optimiser.genetic_evo\n",
    "from Optimiser.genetic_evo import GeneticOptimiser"
   ]
  },
  {
   "cell_type": "code",
   "execution_count": null,
   "id": "b9a56e0b-c9e9-42b2-8df4-038c01951061",
   "metadata": {},
   "outputs": [],
   "source": [
    "GA_Opt = GeneticOptimiser()"
   ]
  },
  {
   "cell_type": "code",
   "execution_count": null,
   "id": "9a8dd5f9-89dc-46af-bc46-464612ecc91e",
   "metadata": {},
   "outputs": [],
   "source": [
    "GA_Opt.ga_init_env()"
   ]
  },
  {
   "cell_type": "code",
   "execution_count": null,
   "id": "07fc88ab-f1c5-41d2-89af-c6caf515df40",
   "metadata": {},
   "outputs": [],
   "source": [
    "GA_Opt.set_fitnessfun(haaqi_reward_fn)"
   ]
  },
  {
   "cell_type": "code",
   "execution_count": null,
   "id": "77bf137c-68a4-45ca-bab8-f67e8f494a2b",
   "metadata": {
    "scrolled": true
   },
   "outputs": [],
   "source": [
    "GA_Opt.run()"
   ]
  },
  {
   "cell_type": "code",
   "execution_count": null,
   "id": "ccefccc3-37b9-4f74-9a31-124eac8e5747",
   "metadata": {},
   "outputs": [],
   "source": [
    "Evo_Data, Evo_Data_Full = GA_Opt.save_results(filefold=Mixing_Path, genre_columns=['Thre','Ratio','Attk','Release'], is_outputfulldata = True)"
   ]
  },
  {
   "cell_type": "code",
   "execution_count": null,
   "id": "b805f9a6-059f-40f0-b729-5cb810ac4fa2",
   "metadata": {},
   "outputs": [],
   "source": [
    "Evo_Data"
   ]
  },
  {
   "cell_type": "code",
   "execution_count": null,
   "id": "cafb33e1-5412-4ade-a844-a95601acc048",
   "metadata": {},
   "outputs": [],
   "source": [
    "Evo_Data_Full"
   ]
  },
  {
   "cell_type": "markdown",
   "id": "faa82a90-0b5d-4064-b734-364a145a956d",
   "metadata": {},
   "source": [
    "### Import MC Optimiser"
   ]
  },
  {
   "cell_type": "code",
   "execution_count": 6,
   "id": "0051bff4-4edc-4a36-8d79-b150f2388c9a",
   "metadata": {},
   "outputs": [
    {
     "name": "stderr",
     "output_type": "stream",
     "text": [
      "2025-07-16 17:27:40.396879: I tensorflow/core/util/port.cc:113] oneDNN custom operations are on. You may see slightly different numerical results due to floating-point round-off errors from different computation orders. To turn them off, set the environment variable `TF_ENABLE_ONEDNN_OPTS=0`.\n",
      "2025-07-16 17:27:40.467354: E external/local_xla/xla/stream_executor/cuda/cuda_dnn.cc:9261] Unable to register cuDNN factory: Attempting to register factory for plugin cuDNN when one has already been registered\n",
      "2025-07-16 17:27:40.467410: E external/local_xla/xla/stream_executor/cuda/cuda_fft.cc:607] Unable to register cuFFT factory: Attempting to register factory for plugin cuFFT when one has already been registered\n",
      "2025-07-16 17:27:40.474221: E external/local_xla/xla/stream_executor/cuda/cuda_blas.cc:1515] Unable to register cuBLAS factory: Attempting to register factory for plugin cuBLAS when one has already been registered\n",
      "2025-07-16 17:27:40.499637: I tensorflow/core/platform/cpu_feature_guard.cc:182] This TensorFlow binary is optimized to use available CPU instructions in performance-critical operations.\n",
      "To enable the following instructions: AVX2 AVX_VNNI FMA, in other operations, rebuild TensorFlow with the appropriate compiler flags.\n",
      "2025-07-16 17:27:41.125736: W tensorflow/compiler/tf2tensorrt/utils/py_utils.cc:38] TF-TRT Warning: Could not find TensorRT\n"
     ]
    }
   ],
   "source": [
    "import Optimiser.mc_opt\n",
    "from Optimiser.mc_opt import MonteCarloOptimiser"
   ]
  },
  {
   "cell_type": "code",
   "execution_count": 10,
   "id": "23232f2f-b04f-4a95-a149-10c0c51ec77f",
   "metadata": {},
   "outputs": [
    {
     "name": "stdout",
     "output_type": "stream",
     "text": [
      "solution:[-11.   3.   2. 107.]\n",
      "solution:[ -6.   9.  13. 392.]\n",
      "solution:[-14.   9.  17. 101.]\n",
      " Step 1/5 → best R = 0.0790\n",
      "solution:[ -4.   1.  15. 170.]\n",
      "solution:[ -4.   6.   7. 269.]\n",
      "solution:[-29.   2.  14. 359.]\n",
      " Step 2/5 → best R = 0.1450\n",
      "solution:[-12.   4.  20. 492.]\n",
      "solution:[ -9.   7.  14. 256.]\n",
      "solution:[-26.   7.  11. 224.]\n",
      " Step 3/5 → best R = 0.1710\n",
      "solution:[-15.   9.  19. 243.]\n",
      "solution:[-13.   4.  12. 235.]\n",
      "solution:[-18.   9.   5. 349.]\n",
      " Step 4/5 → best R = 0.1420\n",
      "solution:[-27.   8.  16. 196.]\n",
      "solution:[ -4.   2.   7. 160.]\n",
      "solution:[-16.   8.   5. 121.]\n",
      " Step 5/5 → best R = 0.1690\n"
     ]
    }
   ],
   "source": [
    "mc = MonteCarloOptimiser(reward_fn = haaqi_reward_fn)\n",
    "per_step_bests = mc.optimise_by_steps(n_steps=5, sampling_per_step=3)"
   ]
  },
  {
   "cell_type": "code",
   "execution_count": null,
   "id": "256f9c1c-6fa5-4ac8-9e05-233c2a8c788c",
   "metadata": {},
   "outputs": [],
   "source": [
    "np.round(rng.uniform([-30.0,  1.0,  1.0, 100.0], [  0.0, 10.0, 20.0, 500.0], size=4),2)"
   ]
  },
  {
   "cell_type": "code",
   "execution_count": null,
   "id": "0c4643d3-0446-47e7-aca6-c42e4bff0155",
   "metadata": {},
   "outputs": [],
   "source": []
  }
 ],
 "metadata": {
  "kernelspec": {
   "display_name": "Python 3 (ipykernel)",
   "language": "python",
   "name": "python3"
  },
  "language_info": {
   "codemirror_mode": {
    "name": "ipython",
    "version": 3
   },
   "file_extension": ".py",
   "mimetype": "text/x-python",
   "name": "python",
   "nbconvert_exporter": "python",
   "pygments_lexer": "ipython3",
   "version": "3.10.18"
  }
 },
 "nbformat": 4,
 "nbformat_minor": 5
}
