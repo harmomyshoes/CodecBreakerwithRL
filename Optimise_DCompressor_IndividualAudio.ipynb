{
 "cells": [
  {
   "cell_type": "markdown",
   "id": "b861a11c-c8be-4386-a6c3-88e4351fcc9d",
   "metadata": {},
   "source": [
    "### Import mix module "
   ]
  },
  {
   "cell_type": "code",
   "execution_count": null,
   "id": "89d00b6e-07fc-42a7-8f50-fc6d58ef3e2a",
   "metadata": {},
   "outputs": [],
   "source": [
    "import numpy as np\n",
    "import pandas as pd\n",
    "from CODECbreakCode.AudioMixer import SingleFileAudioMixer\n",
    "import CODECbreakCode.Evaluator as Evaluator\n",
    "from CODECbreakCode.Evaluator import MeasureHAAQIOutput\n",
    "import CODECbreakCode.NoiseEval as NEUtil\n",
    "from Optimiser.config import get_config, normalize_action, denormalize_action\n",
    "import argparse"
   ]
  },
  {
   "cell_type": "code",
   "execution_count": 2,
   "id": "c93df550-88b7-47ca-9557-2ce72933aa6a",
   "metadata": {},
   "outputs": [],
   "source": [
    "import warnings\n",
    "warnings.filterwarnings(\"ignore\", \"Possible clipped samples in output.\")\n",
    "warnings.filterwarnings(\"ignore\",message=\"Warning: input samples dtype is np.float64. Converting to np.float32\")"
   ]
  },
  {
   "cell_type": "code",
   "execution_count": 3,
   "id": "3d863747-3207-4dca-8ad2-6e7a83e5ac69",
   "metadata": {},
   "outputs": [
    {
     "name": "stdout",
     "output_type": "stream",
     "text": [
      "Audio duration orginal is 17.462666666666667 seconds, now is the 8.0, the audio changing to the MONO\n",
      "Referece_MP3File:/home/codecrack/CodecBreakerwithRL/AudioEX/Mixing_Result_Mp3_Wav/Reference_64kbps.wav\n"
     ]
    }
   ],
   "source": [
    "Mixing_Path = '/home/codecrack/CodecBreakerwithRL/AudioEX/'\n",
    "Noise_Generator_MP3 = SingleFileAudioMixer(filename=\"reggae.wav\", foldpath=Mixing_Path, TrackType = NEUtil.MixingType.File)\n",
    "Referece_File,_ = Noise_Generator_MP3.TestNoisedOnlyFile([0,0,0,0],\"Reference.wav\")\n",
    "Referece_File\n",
    "Referece_MP3File = Evaluator.Mp3LameLossyCompress(Referece_File,64)\n",
    "print(f\"Referece_MP3File:{Referece_MP3File}\")"
   ]
  },
  {
   "cell_type": "code",
   "execution_count": 4,
   "id": "18d7f839-a034-4126-84a1-af42081c2a6f",
   "metadata": {},
   "outputs": [
    {
     "data": {
      "text/plain": [
       "0.9985486850772456"
      ]
     },
     "execution_count": 4,
     "metadata": {},
     "output_type": "execute_result"
    }
   ],
   "source": [
    "####initalise the Haaqi\n",
    "MeasureHAAQI = MeasureHAAQIOutput(Referece_MP3File)#Initilize the HAAQI with a permanent reference\n",
    "MeasureHAAQI.MeasureHAQQIOutput(Referece_MP3File) #Test on how far from itself to itself"
   ]
  },
  {
   "cell_type": "code",
   "execution_count": 16,
   "id": "a5f38d28-f3b8-46ff-8c1c-c47b076d1f05",
   "metadata": {},
   "outputs": [
    {
     "data": {
      "text/plain": [
       "array([-30. ,   8.1,   1. , 100. ])"
      ]
     },
     "execution_count": 16,
     "metadata": {},
     "output_type": "execute_result"
    }
   ],
   "source": [
    "denormalize_action(np.array([-3.604144,0.5862619,-1.3705522,-1.853153]))"
   ]
  },
  {
   "cell_type": "code",
   "execution_count": 5,
   "id": "012f1950-ff0d-4756-87b5-6078148e99bc",
   "metadata": {},
   "outputs": [],
   "source": [
    "def haaqi_reward_fn(solution: np.ndarray, is_normalised = True) -> float:\n",
    "    if is_normalised:\n",
    "        solution = denormalize_action(solution)\n",
    "    #print(f'solution:{solution}')\n",
    "    thre, ratio, attack, release = solution\n",
    "    degradated_filename = f'audio_mixing_reggea_dynC_thre_{thre}_ratio_{ratio}_attk_{attack}_rele_{release}.wav'\n",
    "    gener_Audio = Noise_Generator_MP3.TestNoisedOnlyFileOnlyDynamicCompressor(outputfilename = degradated_filename,\n",
    "                                                               threshold = thre,\n",
    "                                                               ratio = ratio,\n",
    "                                                               attack = attack,\n",
    "                                                               release = release)\n",
    "    gener_Audio_mp3 = Evaluator.Mp3LameLossyCompress(gener_Audio,64)\n",
    "    score = MeasureHAAQI.MeasureHAQQIOutput(gener_Audio_mp3)\n",
    "#    print(f\"Current degraded thre:{thre}, ratio: {ratio}, attack:{attack},release:{release} bring the HAAQI score to {score}\")\n",
    "    return round(1-score,3)"
   ]
  },
  {
   "cell_type": "code",
   "execution_count": 19,
   "id": "77209ed8-42c9-4f23-9257-7f0bd900d88d",
   "metadata": {},
   "outputs": [
    {
     "data": {
      "text/plain": [
       "0.252"
      ]
     },
     "execution_count": 19,
     "metadata": {},
     "output_type": "execute_result"
    }
   ],
   "source": [
    "###inital\n",
    "haaqi_reward_fn(np.array([-30. ,   8.1,   1. , 100.]),False)"
   ]
  },
  {
   "cell_type": "code",
   "execution_count": null,
   "id": "e85c3993-ff11-4bc7-ac2c-d4bfb31be3d5",
   "metadata": {},
   "outputs": [],
   "source": [
    "import numpy as np\n",
    "m1=np.array([-0.5,-0.5,-0.5,-0.5])\n",
    "m2=np.array([0.5,0.5,0.5,0.5])\n",
    "\n",
    "def f(x):\n",
    "    return -np.sum(np.log(np.sum((x-m1)**2)+0.00001)-np.log(np.sum((x-m2)**2)+0.01))"
   ]
  },
  {
   "cell_type": "markdown",
   "id": "97bf03c6-8630-4937-9e97-2a379641f40c",
   "metadata": {},
   "source": [
    "## Ranking"
   ]
  },
  {
   "cell_type": "markdown",
   "id": "5ef7f0de-57f9-4c61-a5f9-56bfb6f780fe",
   "metadata": {
    "jp-MarkdownHeadingCollapsed": true,
    "jupyter": {
     "source_hidden": true
    }
   },
   "source": [
    "### function"
   ]
  },
  {
   "cell_type": "code",
   "execution_count": null,
   "id": "64f63fde-d258-41fa-bd65-9644ab469049",
   "metadata": {},
   "outputs": [],
   "source": [
    "######ranking corresspoding funciton \n",
    "def haaqi_reward_fn(solution: np.ndarray) -> float:\n",
    "    thre = solution[0]\n",
    "    thre = thre - 15\n",
    "    ratio = solution[1]\n",
    "    ratio = ratio + 5\n",
    "    attack = solution[2]\n",
    "    attack = attack + 10\n",
    "    release = solution[3] \n",
    "    release = release + 300\n",
    "    degradated_filename = f'audio_mixing_reggea_dynC_thre_{thre}_ratio_{ratio}_attk_{attack}_rele_{release}.wav'\n",
    "    gener_Audio = Noise_Generator_MP3.TestNoisedOnlyFileOnlyDynamicCompressor(outputfilename = degradated_filename,\n",
    "                                                               threshold = thre,\n",
    "                                                               ratio = ratio,\n",
    "                                                               attack = attack,\n",
    "                                                               release = release)\n",
    "    gener_Audio_mp3 = Evaluator.Mp3LameLossyCompress(gener_Audio,64)\n",
    "    score = MeasureHAAQI.MeasureHAQQIOutput(gener_Audio_mp3)\n",
    "#    print(f\"Current degraded thre:{thre}, ratio: {ratio}, attack:{attack},release:{release} bring the HAAQI score to {score}\")\n",
    "    return 1-score"
   ]
  },
  {
   "cell_type": "markdown",
   "id": "6e4d4eb2-d98f-4ad9-b310-244abbea44fe",
   "metadata": {
    "jupyter": {
     "source_hidden": true
    }
   },
   "source": [
    "### GA"
   ]
  },
  {
   "cell_type": "code",
   "execution_count": null,
   "id": "5e5e5016-37b2-416f-b0f1-9eb805385224",
   "metadata": {},
   "outputs": [],
   "source": [
    "###Worst result for GA Until the 11.July\n",
    "###haaqi_reward_fn(np.array([-12.4, 2.7, -6.8, -56]))\n",
    "####Worst result for GA Until the 12.July \n",
    "haaqi_reward_fn(np.array([-14.9, 3.3, -9.0, -193]))"
   ]
  },
  {
   "cell_type": "markdown",
   "id": "a9b303fd-575c-46b0-b917-c579128b7ab2",
   "metadata": {
    "jp-MarkdownHeadingCollapsed": true,
    "jupyter": {
     "source_hidden": true
    }
   },
   "source": [
    "### RL in Continous"
   ]
  },
  {
   "cell_type": "code",
   "execution_count": null,
   "id": "8358b863-572b-49b1-a78d-0f38c772ff50",
   "metadata": {},
   "outputs": [],
   "source": [
    "####Worst result for GA Until the 12.July [-1.2019364  -5.0801964  -3.631278  -54.986313]\n",
    "haaqi_reward_fn(np.array([-1.2019,-5.0801,-3.6313,-54.9863]))"
   ]
  },
  {
   "cell_type": "markdown",
   "id": "81cc47e1-03b7-4be2-bd0e-48111f1e2ec7",
   "metadata": {},
   "source": [
    "### File Clear"
   ]
  },
  {
   "cell_type": "code",
   "execution_count": 15,
   "id": "018f17af-e459-40e9-8f07-f9fda69ada09",
   "metadata": {},
   "outputs": [],
   "source": [
    "Noise_Generator_MP3.EraseTheMp3Mixing()"
   ]
  },
  {
   "cell_type": "markdown",
   "id": "9479d3e9-01f9-4cc4-bb71-ec17d0cfb651",
   "metadata": {
    "jp-MarkdownHeadingCollapsed": true,
    "jupyter": {
     "source_hidden": true
    }
   },
   "source": [
    "### Import Discrete RL module"
   ]
  },
  {
   "cell_type": "code",
   "execution_count": null,
   "id": "2a841a29-0045-4ff6-a59f-0aa08ea272e2",
   "metadata": {},
   "outputs": [],
   "source": [
    "import Optimiser"
   ]
  },
  {
   "cell_type": "code",
   "execution_count": null,
   "id": "87b93225-1b54-42e5-ad94-0f33707d18e0",
   "metadata": {},
   "outputs": [],
   "source": [
    "import Optimiser.discrete_RL_train\n",
    "from Optimiser.discrete_RL_train import discrete_RL_train as RLTrain"
   ]
  },
  {
   "cell_type": "code",
   "execution_count": null,
   "id": "b75bdcf0-7888-4c2d-b2aa-ea0aad3ac02f",
   "metadata": {
    "scrolled": true
   },
   "outputs": [],
   "source": [
    "trainner = RLTrain()\n",
    "trainner.set_environments(haaqi_reward_fn)\n",
    "trainner.train()"
   ]
  },
  {
   "cell_type": "code",
   "execution_count": null,
   "id": "39dc7545-65b7-4895-a94f-9ee28ebd14b1",
   "metadata": {},
   "outputs": [],
   "source": [
    "###Worst result for discrete ReinforcementL Until the 11.July\n",
    "haaqi_reward_fn(np.array([ -3.9 ,  -0.5 ,  -4.4 , -52.72]))"
   ]
  },
  {
   "cell_type": "code",
   "execution_count": null,
   "id": "eb6cd6be-9a29-4fed-898d-9d546fba6a3a",
   "metadata": {},
   "outputs": [],
   "source": []
  },
  {
   "cell_type": "markdown",
   "id": "3dc3f180-42ea-4377-81e7-293e8d053e2e",
   "metadata": {},
   "source": [
    "### Import Continous RL"
   ]
  },
  {
   "cell_type": "code",
   "execution_count": 7,
   "id": "8b55d64d-deb0-42a6-bd17-1ac6cf3eda26",
   "metadata": {},
   "outputs": [],
   "source": [
    "import Optimiser"
   ]
  },
  {
   "cell_type": "code",
   "execution_count": 8,
   "id": "cc061f54-6ccb-44de-afd5-f5d7b7d57fd2",
   "metadata": {},
   "outputs": [
    {
     "name": "stderr",
     "output_type": "stream",
     "text": [
      "2025-07-16 13:19:07.524523: I tensorflow/core/util/port.cc:113] oneDNN custom operations are on. You may see slightly different numerical results due to floating-point round-off errors from different computation orders. To turn them off, set the environment variable `TF_ENABLE_ONEDNN_OPTS=0`.\n",
      "2025-07-16 13:19:07.557754: E external/local_xla/xla/stream_executor/cuda/cuda_dnn.cc:9261] Unable to register cuDNN factory: Attempting to register factory for plugin cuDNN when one has already been registered\n",
      "2025-07-16 13:19:07.557783: E external/local_xla/xla/stream_executor/cuda/cuda_fft.cc:607] Unable to register cuFFT factory: Attempting to register factory for plugin cuFFT when one has already been registered\n",
      "2025-07-16 13:19:07.559719: E external/local_xla/xla/stream_executor/cuda/cuda_blas.cc:1515] Unable to register cuBLAS factory: Attempting to register factory for plugin cuBLAS when one has already been registered\n",
      "2025-07-16 13:19:07.568555: I tensorflow/core/platform/cpu_feature_guard.cc:182] This TensorFlow binary is optimized to use available CPU instructions in performance-critical operations.\n",
      "To enable the following instructions: AVX2 AVX_VNNI FMA, in other operations, rebuild TensorFlow with the appropriate compiler flags.\n",
      "2025-07-16 13:19:08.154421: W tensorflow/compiler/tf2tensorrt/utils/py_utils.cc:38] TF-TRT Warning: Could not find TensorRT\n",
      "2025-07-16 13:19:11.260142: E external/local_xla/xla/stream_executor/cuda/cuda_driver.cc:274] failed call to cuInit: CUDA_ERROR_NO_DEVICE: no CUDA-capable device is detected\n"
     ]
    }
   ],
   "source": [
    "import Optimiser.continous_RL_train\n",
    "from Optimiser.continous_RL_train import continous_RL_train as CRLTrain"
   ]
  },
  {
   "cell_type": "code",
   "execution_count": 9,
   "id": "f823ae2d-88a2-435c-b874-50d94c8012ab",
   "metadata": {
    "scrolled": true
   },
   "outputs": [
    {
     "name": "stdout",
     "output_type": "stream",
     "text": [
      "number of sub_episodes used for a single param update: 6\n",
      "train_env.batch_size = parallel environment number =  1\n",
      "update_num: 30, eval_intv: 3\n",
      "WARNING:tensorflow:From /home/codecrack/CodecBreakerwithRL/Optimiser/continous_RL_train.py:140: ReplayBuffer.gather_all (from tf_agents.replay_buffers.replay_buffer) is deprecated and will be removed in a future version.\n",
      "Instructions for updating:\n",
      "Use `as_dataset(..., single_deterministic_pass=True)` instead.\n",
      "[step   0] mean entropy per-dim = 5.5844\n",
      "final reward before udpate: -1000000000.0\n",
      "final reward after udpate: 0.249\n",
      "updated final_solution= [-30.  10.   1. 100.]\n",
      "train_step no.= 1\n",
      "best_solution of this generation= [-30.  10.   1. 100.]\n",
      "best step reward= 0.249\n",
      "avg step reward= 0.07745834\n",
      "act_std: [-4.000e-01  9.900e+00  1.980e+01  4.948e+02]\n",
      "act_mean: [-15.    5.5  10.5 300. ]\n",
      "obs_mean: [-23.1   5.9   4.6 373.2]\n",
      "obs_std: [  0.  10.  20. 500.]\n",
      "best_step_index: [5, 2]\n",
      " \n",
      "[step   1] mean entropy per-dim = 5.5884\n",
      "[step   2] mean entropy per-dim = 5.5695\n",
      "[step   3] mean entropy per-dim = 5.5934\n",
      "train_step no.= 4\n",
      "best_solution of this generation= [-30.  10.   1. 100.]\n",
      "best step reward= 0.249\n",
      "avg step reward= 0.075333335\n",
      "act_std: [-4.000e-01  9.900e+00  1.980e+01  4.948e+02]\n",
      "act_mean: [-15.    5.5  10.5 300. ]\n",
      "obs_mean: [ -9.2   6.1   9.9 332. ]\n",
      "obs_std: [  0.  10.  20. 500.]\n",
      "best_step_index: [0, 4]\n",
      " \n",
      "[step   4] mean entropy per-dim = 5.5665\n",
      "[step   5] mean entropy per-dim = 5.5710\n",
      "[step   6] mean entropy per-dim = 5.5708\n",
      "train_step no.= 7\n",
      "best_solution of this generation= [-30.    6.2  11.8 359.4]\n",
      "best step reward= 0.172\n",
      "avg step reward= 0.035375003\n",
      "act_std: [-4.000e-01  9.900e+00  1.980e+01  4.948e+02]\n",
      "act_mean: [-15.    5.5  10.5 300. ]\n",
      "obs_mean: [ -8.7   7.3  15.3 305.4]\n",
      "obs_std: [  0.  10.  20. 500.]\n",
      "best_step_index: [0, 1]\n",
      " \n",
      "[step   7] mean entropy per-dim = 5.5347\n",
      "[step   8] mean entropy per-dim = 5.5606\n",
      "[step   9] mean entropy per-dim = 5.5424\n",
      "train_step no.= 10\n",
      "best_solution of this generation= [-30.    8.2  10.1 100. ]\n",
      "best step reward= 0.197\n",
      "avg step reward= 0.09004167\n",
      "act_std: [-4.000e-01  9.900e+00  1.980e+01  4.948e+02]\n",
      "act_mean: [-15.    5.5  10.5 300. ]\n",
      "obs_mean: [-15.3   9.9  15.3 358.5]\n",
      "obs_std: [  0.   10.   16.8 500. ]\n",
      "best_step_index: [1, 3]\n",
      " \n",
      "[step  10] mean entropy per-dim = 5.5954\n",
      "final reward before udpate: 0.249\n",
      "final reward after udpate: 0.252\n",
      "updated final_solution= [-30.    8.1   1.  100. ]\n",
      "[step  11] mean entropy per-dim = 5.5642\n",
      "[step  12] mean entropy per-dim = 5.5722\n",
      "train_step no.= 13\n",
      "best_solution of this generation= [-30.    8.2   1.  100. ]\n",
      "best step reward= 0.252\n",
      "avg step reward= 0.12808333\n",
      "act_std: [-4.000e-01  9.900e+00  1.980e+01  4.948e+02]\n",
      "act_mean: [-15.    5.5  10.5 300. ]\n",
      "obs_mean: [-27.2   6.7   6.8 307.3]\n",
      "obs_std: [  0.    9.7  20.  500. ]\n",
      "best_step_index: [1, 3]\n",
      " \n",
      "[step  13] mean entropy per-dim = 5.5614\n",
      "[step  14] mean entropy per-dim = 5.5874\n",
      "[step  15] mean entropy per-dim = 5.5614\n",
      "train_step no.= 16\n",
      "best_solution of this generation= [-27.1   6.7  11.9 100. ]\n",
      "best step reward= 0.174\n",
      "avg step reward= 0.07975\n",
      "act_std: [-4.000e-01  9.900e+00  1.980e+01  4.948e+02]\n",
      "act_mean: [-15.    5.5  10.5 300. ]\n",
      "obs_mean: [-14.9   9.8  13.3 349.9]\n",
      "obs_std: [ -2.7  10.   20.  472.4]\n",
      "best_step_index: [1, 3]\n",
      " \n",
      "[step  16] mean entropy per-dim = 5.5859\n",
      "[step  17] mean entropy per-dim = 5.6202\n",
      "[step  18] mean entropy per-dim = 5.5776\n",
      "train_step no.= 19\n",
      "best_solution of this generation= [-29.4  10.    2.1 397.7]\n",
      "best step reward= 0.192\n",
      "avg step reward= 0.07908333\n",
      "act_std: [-4.000e-01  9.900e+00  1.980e+01  4.948e+02]\n",
      "act_mean: [-15.    5.5  10.5 300. ]\n",
      "obs_mean: [-14.4   6.1   7.6 267.4]\n",
      "obs_std: [ -0.7  10.   20.  500. ]\n",
      "best_step_index: [0, 1]\n",
      " \n",
      "[step  19] mean entropy per-dim = 5.5732\n",
      "[step  20] mean entropy per-dim = 5.5401\n",
      "[step  21] mean entropy per-dim = 5.5590\n",
      "train_step no.= 22\n",
      "best_solution of this generation= [-30.    9.3   1.  100. ]\n",
      "best step reward= 0.25\n",
      "avg step reward= 0.08\n",
      "act_std: [-4.000e-01  9.900e+00  1.980e+01  4.948e+02]\n",
      "act_mean: [-15.    5.5  10.5 300. ]\n",
      "obs_mean: [-23.    7.   10.6 224.6]\n",
      "obs_std: [  0.   10.   17.5 500. ]\n",
      "best_step_index: [5, 1]\n",
      " \n",
      "[step  22] mean entropy per-dim = 5.6039\n",
      "[step  23] mean entropy per-dim = 5.5560\n",
      "[step  24] mean entropy per-dim = 5.5855\n",
      "train_step no.= 25\n",
      "best_solution of this generation= [-30.    7.1   1.  100. ]\n",
      "best step reward= 0.248\n",
      "avg step reward= 0.08891666\n",
      "act_std: [-4.000e-01  9.900e+00  1.980e+01  4.948e+02]\n",
      "act_mean: [-15.    5.5  10.5 299.9]\n",
      "obs_mean: [-21.7   4.5   1.9 192.6]\n",
      "obs_std: [  0.  10.  20. 500.]\n",
      "best_step_index: [2, 2]\n",
      " \n",
      "[step  25] mean entropy per-dim = 5.5821\n",
      "[step  26] mean entropy per-dim = 5.5636\n",
      "[step  27] mean entropy per-dim = 5.5980\n",
      "train_step no.= 28\n",
      "best_solution of this generation= [-30.    7.6  20.  500. ]\n",
      "best step reward= 0.16\n",
      "avg step reward= 0.033\n",
      "act_std: [-4.000e-01  9.900e+00  1.970e+01  4.948e+02]\n",
      "act_mean: [-15.    5.5  10.5 299.9]\n",
      "obs_mean: [ -0.4   5.7  10.6 203.3]\n",
      "obs_std: [  0.    8.9  20.  500. ]\n",
      "best_step_index: [3, 2]\n",
      " \n",
      "[step  28] mean entropy per-dim = 5.6098\n",
      "[step  29] mean entropy per-dim = 5.5916\n",
      "final_solution= [-3.604144   0.5862619 -1.3705522 -1.853153 ] final_reward= 0.252\n"
     ]
    }
   ],
   "source": [
    "trainner = CRLTrain()\n",
    "trainner.set_environments(haaqi_reward_fn)\n",
    "trainner.train()"
   ]
  },
  {
   "cell_type": "code",
   "execution_count": 36,
   "id": "0fb77526-f3e9-48e9-ba53-52f925f8b751",
   "metadata": {},
   "outputs": [
    {
     "ename": "UnboundLocalError",
     "evalue": "local variable 'RL_Data_Full' referenced before assignment",
     "output_type": "error",
     "traceback": [
      "\u001b[0;31m---------------------------------------------------------------------------\u001b[0m",
      "\u001b[0;31mUnboundLocalError\u001b[0m                         Traceback (most recent call last)",
      "Cell \u001b[0;32mIn[36], line 1\u001b[0m\n\u001b[0;32m----> 1\u001b[0m RL_data, RL_F_data \u001b[38;5;241m=\u001b[39m \u001b[43mtrainner\u001b[49m\u001b[38;5;241;43m.\u001b[39;49m\u001b[43msave_results\u001b[49m\u001b[43m(\u001b[49m\u001b[43mfilefold\u001b[49m\u001b[38;5;241;43m=\u001b[39;49m\u001b[43mMixing_Path\u001b[49m\u001b[43m,\u001b[49m\u001b[43m \u001b[49m\u001b[43mpara_columns\u001b[49m\u001b[38;5;241;43m=\u001b[39;49m\u001b[43m[\u001b[49m\u001b[38;5;124;43m'\u001b[39;49m\u001b[38;5;124;43mThre\u001b[39;49m\u001b[38;5;124;43m'\u001b[39;49m\u001b[43m,\u001b[49m\u001b[38;5;124;43m'\u001b[39;49m\u001b[38;5;124;43mRatio\u001b[39;49m\u001b[38;5;124;43m'\u001b[39;49m\u001b[43m,\u001b[49m\u001b[38;5;124;43m'\u001b[39;49m\u001b[38;5;124;43mAttk\u001b[39;49m\u001b[38;5;124;43m'\u001b[39;49m\u001b[43m,\u001b[49m\u001b[38;5;124;43m'\u001b[39;49m\u001b[38;5;124;43mRelease\u001b[39;49m\u001b[38;5;124;43m'\u001b[39;49m\u001b[43m]\u001b[49m\u001b[43m,\u001b[49m\u001b[43mis_outputfulldata\u001b[49m\u001b[43m \u001b[49m\u001b[38;5;241;43m=\u001b[39;49m\u001b[43m \u001b[49m\u001b[38;5;28;43;01mFalse\u001b[39;49;00m\u001b[43m)\u001b[49m\n",
      "File \u001b[0;32m/home/codecrack/CodecBreakerwithRL/Optimiser/continous_RL_train.py:364\u001b[0m, in \u001b[0;36mcontinous_RL_train.save_results\u001b[0;34m(self, filefold, para_columns, is_outputfulldata)\u001b[0m\n\u001b[1;32m    361\u001b[0m     RL_Data_Full_Path \u001b[38;5;241m=\u001b[39m os\u001b[38;5;241m.\u001b[39mpath\u001b[38;5;241m.\u001b[39mjoin(filefold, \u001b[38;5;124m'\u001b[39m\u001b[38;5;124mData\u001b[39m\u001b[38;5;124m'\u001b[39m, \u001b[38;5;124mf\u001b[39m\u001b[38;5;124m'\u001b[39m\u001b[38;5;124mRL_Data_FullResults_\u001b[39m\u001b[38;5;132;01m{\u001b[39;00mdatetime\u001b[38;5;241m.\u001b[39mnow()\u001b[38;5;241m.\u001b[39mstrftime(\u001b[38;5;124m\"\u001b[39m\u001b[38;5;124m%\u001b[39m\u001b[38;5;124mY\u001b[39m\u001b[38;5;124m%\u001b[39m\u001b[38;5;124mm\u001b[39m\u001b[38;5;132;01m%d\u001b[39;00m\u001b[38;5;124m%\u001b[39m\u001b[38;5;124mH\u001b[39m\u001b[38;5;124m%\u001b[39m\u001b[38;5;124mM\u001b[39m\u001b[38;5;124m\"\u001b[39m)\u001b[38;5;132;01m}\u001b[39;00m\u001b[38;5;124m.csv\u001b[39m\u001b[38;5;124m'\u001b[39m)\n\u001b[1;32m    362\u001b[0m     RL_Data_Full\u001b[38;5;241m.\u001b[39mto_csv(RL_Data_Full_Path, index\u001b[38;5;241m=\u001b[39m\u001b[38;5;28;01mFalse\u001b[39;00m)\n\u001b[0;32m--> 364\u001b[0m \u001b[38;5;28;01mreturn\u001b[39;00m RL_Data,\u001b[43mRL_Data_Full\u001b[49m\n",
      "\u001b[0;31mUnboundLocalError\u001b[0m: local variable 'RL_Data_Full' referenced before assignment"
     ]
    }
   ],
   "source": [
    "RL_data, RL_F_data = trainner.save_results(filefold=Mixing_Path, para_columns=['Thre','Ratio','Attk','Release'],is_outputfulldata = False)"
   ]
  },
  {
   "cell_type": "code",
   "execution_count": null,
   "id": "fd3564a7-5098-4e3d-91ea-387362bb3d2e",
   "metadata": {},
   "outputs": [],
   "source": [
    "final_reward_list"
   ]
  },
  {
   "cell_type": "code",
   "execution_count": null,
   "id": "88f6c096-6779-4c9f-b274-bcd8836a4416",
   "metadata": {},
   "outputs": [],
   "source": [
    "REINFORCE_logs"
   ]
  },
  {
   "cell_type": "markdown",
   "id": "3e10092f-80eb-4058-9065-64b357bd7981",
   "metadata": {},
   "source": [
    "### Import GA module"
   ]
  },
  {
   "cell_type": "code",
   "execution_count": 10,
   "id": "c66cd119-2e83-4518-9597-12b468ca3cfd",
   "metadata": {},
   "outputs": [],
   "source": [
    "import Optimiser.genetic_evo\n",
    "from Optimiser.genetic_evo import GeneticOptimiser"
   ]
  },
  {
   "cell_type": "code",
   "execution_count": 11,
   "id": "b9a56e0b-c9e9-42b2-8df4-038c01951061",
   "metadata": {},
   "outputs": [],
   "source": [
    "GA_Opt = GeneticOptimiser()"
   ]
  },
  {
   "cell_type": "code",
   "execution_count": 12,
   "id": "9a8dd5f9-89dc-46af-bc46-464612ecc91e",
   "metadata": {},
   "outputs": [],
   "source": [
    "GA_Opt.ga_init_env()"
   ]
  },
  {
   "cell_type": "code",
   "execution_count": 13,
   "id": "07fc88ab-f1c5-41d2-89af-c6caf515df40",
   "metadata": {},
   "outputs": [],
   "source": [
    "GA_Opt.set_fitnessfun(haaqi_reward_fn)"
   ]
  },
  {
   "cell_type": "code",
   "execution_count": 14,
   "id": "77bf137c-68a4-45ca-bab8-f67e8f494a2b",
   "metadata": {
    "scrolled": true
   },
   "outputs": [
    {
     "name": "stdout",
     "output_type": "stream",
     "text": [
      "sol_per_pop: 30, num_genes: 4, num_generations: 30, preset_population: [[0.0, 0.0, 0.0, 0.0]]\n"
     ]
    },
    {
     "name": "stderr",
     "output_type": "stream",
     "text": [
      "/root/anaconda3/envs/codecbreak/lib/python3.10/site-packages/pygad/pygad.py:753: UserWarning: The percentage of genes to mutate (mutation_percent_genes=0.3) resulted in selecting (0) genes. The number of genes to mutate is set to 1 (mutation_num_genes=1).\n",
      "If you do not want to mutate any gene, please set mutation_type=None.\n",
      "  warnings.warn(f\"The percentage of genes to mutate (mutation_percent_genes={mutation_percent_genes}) resulted in selecting ({mutation_num_genes}) genes. The number of genes to mutate is set to 1 (mutation_num_genes=1).\\nIf you do not want to mutate any gene, please set mutation_type=None.\")\n",
      "/root/anaconda3/envs/codecbreak/lib/python3.10/site-packages/pygad/pygad.py:1149: UserWarning: Use the 'save_best_solutions' parameter with caution as it may cause memory overflow when either the number of generations or number of genes is large.\n",
      "  warnings.warn(\"Use the 'save_best_solutions' parameter with caution as it may cause memory overflow when either the number of generations or number of genes is large.\")\n",
      "/root/anaconda3/envs/codecbreak/lib/python3.10/site-packages/pygad/pygad.py:1158: UserWarning: Use the 'save_solutions' parameter with caution as it may cause memory overflow when either the number of generations, number of genes, or number of solutions in population is large.\n",
      "  warnings.warn(\"Use the 'save_solutions' parameter with caution as it may cause memory overflow when either the number of generations, number of genes, or number of solutions in population is large.\")\n"
     ]
    },
    {
     "name": "stdout",
     "output_type": "stream",
     "text": [
      "Generation :  1\n",
      "The last best Solution :  {(-28.0, 6.0, 2.7, 328)}\n",
      "Fitness of the last best solution : {0.166}\n",
      "Generation :  2\n",
      "The last best Solution :  {(-28.0, 9.5, 2.7, 328)}\n",
      "Fitness of the last best solution : {0.186}\n",
      "Generation :  3\n",
      "The last best Solution :  {(-29.0, 9.5, 2.7, 141)}\n",
      "Fitness of the last best solution : {0.188}\n",
      "Generation :  4\n",
      "The last best Solution :  {(-29.0, 9.5, 2.7, 141)}\n",
      "Fitness of the last best solution : {0.218}\n",
      "Generation :  5\n",
      "The last best Solution :  {(-30.0, 9.5, 2.7, 141)}\n",
      "Fitness of the last best solution : {0.218}\n",
      "Generation :  6\n",
      "The last best Solution :  {(-30.0, 9.5, 2.7, 141)}\n",
      "Fitness of the last best solution : {0.226}\n",
      "Generation :  7\n",
      "The last best Solution :  {(-30.0, 9.5, 2.7, 115)}\n",
      "Fitness of the last best solution : {0.226}\n",
      "Generation :  8\n",
      "The last best Solution :  {(-30.0, 9.4, 2.7, 115)}\n",
      "Fitness of the last best solution : {0.227}\n",
      "Generation :  9\n",
      "The last best Solution :  {(-30.0, 9.4, 1.9, 115)}\n",
      "Fitness of the last best solution : {0.228}\n",
      "Generation :  10\n",
      "The last best Solution :  {(-30.0, 9.4, 1.4, 115)}\n",
      "Fitness of the last best solution : {0.237}\n",
      "Generation :  11\n",
      "The last best Solution :  {(-30.0, 9.4, 1.4, 115)}\n",
      "Fitness of the last best solution : {0.243}\n",
      "Generation :  12\n",
      "The last best Solution :  {(-30.0, 9.4, 1.4, 115)}\n",
      "Fitness of the last best solution : {0.243}\n",
      "Generation :  13\n",
      "The last best Solution :  {(-30.0, 9.4, 1.4, 115)}\n",
      "Fitness of the last best solution : {0.243}\n",
      "Generation :  14\n",
      "The last best Solution :  {(-30.0, 9.4, 1.4, 115)}\n",
      "Fitness of the last best solution : {0.243}\n",
      "Generation :  15\n",
      "The last best Solution :  {(-30.0, 9.4, 1.4, 116)}\n",
      "Fitness of the last best solution : {0.243}\n",
      "Generation :  16\n",
      "The last best Solution :  {(-30.0, 9.4, 1.0, 116)}\n",
      "Fitness of the last best solution : {0.244}\n",
      "Generation :  17\n",
      "The last best Solution :  {(-30.0, 9.4, 1.0, 112)}\n",
      "Fitness of the last best solution : {0.249}\n",
      "Generation :  18\n",
      "The last best Solution :  {(-30.0, 9.4, 1.0, 112)}\n",
      "Fitness of the last best solution : {0.25}\n",
      "Generation :  19\n",
      "The last best Solution :  {(-30.0, 9.4, 1.0, 112)}\n",
      "Fitness of the last best solution : {0.25}\n",
      "Generation :  20\n",
      "The last best Solution :  {(-30.0, 9.4, 1.0, 112)}\n",
      "Fitness of the last best solution : {0.25}\n",
      "Generation :  21\n",
      "The last best Solution :  {(-30.0, 9.4, 1.0, 112)}\n",
      "Fitness of the last best solution : {0.25}\n",
      "Generation :  22\n",
      "The last best Solution :  {(-30.0, 9.4, 1.0, 105)}\n",
      "Fitness of the last best solution : {0.25}\n",
      "Generation :  23\n",
      "The last best Solution :  {(-30.0, 9.4, 1.0, 105)}\n",
      "Fitness of the last best solution : {0.25}\n",
      "Generation :  24\n",
      "The last best Solution :  {(-30.0, 9.4, 1.0, 105)}\n",
      "Fitness of the last best solution : {0.25}\n",
      "Generation :  25\n",
      "The last best Solution :  {(-30.0, 9.4, 1.0, 105)}\n",
      "Fitness of the last best solution : {0.25}\n",
      "Generation :  26\n",
      "The last best Solution :  {(-30.0, 9.4, 1.0, 105)}\n",
      "Fitness of the last best solution : {0.25}\n",
      "Generation :  27\n",
      "The last best Solution :  {(-30.0, 9.4, 1.0, 105)}\n",
      "Fitness of the last best solution : {0.25}\n",
      "Generation :  28\n",
      "The last best Solution :  {(-30.0, 9.2, 1.0, 105)}\n",
      "Fitness of the last best solution : {0.25}\n",
      "Generation :  29\n",
      "The last best Solution :  {(-30.0, 9.2, 1.0, 105)}\n",
      "Fitness of the last best solution : {0.253}\n",
      "Generation :  30\n",
      "The last best Solution :  {(-30.0, 9.2, 1.0, 105)}\n",
      "Fitness of the last best solution : {0.253}\n"
     ]
    }
   ],
   "source": [
    "GA_Opt.run()"
   ]
  },
  {
   "cell_type": "code",
   "execution_count": 29,
   "id": "ccefccc3-37b9-4f74-9a31-124eac8e5747",
   "metadata": {},
   "outputs": [],
   "source": [
    "Evo_Data, Evo_Data_Full = GA_Opt.save_results(filefold=Mixing_Path, genre_columns=['Thre','Ratio','Attk','Release'], is_outputfulldata = True)"
   ]
  },
  {
   "cell_type": "code",
   "execution_count": null,
   "id": "b805f9a6-059f-40f0-b729-5cb810ac4fa2",
   "metadata": {},
   "outputs": [],
   "source": [
    "Evo_Data"
   ]
  },
  {
   "cell_type": "code",
   "execution_count": null,
   "id": "cafb33e1-5412-4ade-a844-a95601acc048",
   "metadata": {},
   "outputs": [],
   "source": [
    "Evo_Data_Full"
   ]
  },
  {
   "cell_type": "markdown",
   "id": "faa82a90-0b5d-4064-b734-364a145a956d",
   "metadata": {},
   "source": [
    "### Import MC Optimiser"
   ]
  },
  {
   "cell_type": "code",
   "execution_count": 22,
   "id": "23232f2f-b04f-4a95-a149-10c0c51ec77f",
   "metadata": {},
   "outputs": [
    {
     "data": {
      "text/plain": [
       "Generator(PCG64) at 0x7F322C7E5000"
      ]
     },
     "execution_count": 22,
     "metadata": {},
     "output_type": "execute_result"
    }
   ],
   "source": [
    "rng = np.random.default_rng(0)\n",
    "rng"
   ]
  },
  {
   "cell_type": "code",
   "execution_count": 27,
   "id": "256f9c1c-6fa5-4ac8-9e05-233c2a8c788c",
   "metadata": {},
   "outputs": [
    {
     "data": {
      "text/plain": [
       "array([ -4.1 ,   5.87,   6.69, 269.07])"
      ]
     },
     "execution_count": 27,
     "metadata": {},
     "output_type": "execute_result"
    }
   ],
   "source": [
    "np.round(rng.uniform([-30.0,  1.0,  1.0, 100.0], [  0.0, 10.0, 20.0, 500.0], size=4),2)"
   ]
  },
  {
   "cell_type": "code",
   "execution_count": null,
   "id": "0c4643d3-0446-47e7-aca6-c42e4bff0155",
   "metadata": {},
   "outputs": [],
   "source": []
  }
 ],
 "metadata": {
  "kernelspec": {
   "display_name": "Python 3 (ipykernel)",
   "language": "python",
   "name": "python3"
  },
  "language_info": {
   "codemirror_mode": {
    "name": "ipython",
    "version": 3
   },
   "file_extension": ".py",
   "mimetype": "text/x-python",
   "name": "python",
   "nbconvert_exporter": "python",
   "pygments_lexer": "ipython3",
   "version": "3.10.18"
  }
 },
 "nbformat": 4,
 "nbformat_minor": 5
}
