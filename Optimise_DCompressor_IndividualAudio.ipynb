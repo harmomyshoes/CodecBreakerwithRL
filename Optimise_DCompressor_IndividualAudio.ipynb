{
 "cells": [
  {
   "cell_type": "markdown",
   "id": "b861a11c-c8be-4386-a6c3-88e4351fcc9d",
   "metadata": {},
   "source": [
    "### Import mix module "
   ]
  },
  {
   "cell_type": "code",
   "execution_count": 1,
   "id": "89d00b6e-07fc-42a7-8f50-fc6d58ef3e2a",
   "metadata": {},
   "outputs": [],
   "source": [
    "import numpy as np\n",
    "import pandas as pd\n",
    "from CODECbreakCode.AudioMixer import SingleFileAudioMixer\n",
    "import CODECbreakCode.Evaluator as Evaluator\n",
    "from CODECbreakCode.Evaluator import MeasureHAAQIOutput\n",
    "import CODECbreakCode.NoiseEval as NEUtil\n",
    "import argparse"
   ]
  },
  {
   "cell_type": "code",
   "execution_count": 2,
   "id": "c93df550-88b7-47ca-9557-2ce72933aa6a",
   "metadata": {},
   "outputs": [],
   "source": [
    "import warnings\n",
    "warnings.filterwarnings(\"ignore\", \"Possible clipped samples in output.\")\n",
    "warnings.filterwarnings(\"ignore\",message=\"Warning: input samples dtype is np.float64. Converting to np.float32\")"
   ]
  },
  {
   "cell_type": "code",
   "execution_count": 3,
   "id": "3d863747-3207-4dca-8ad2-6e7a83e5ac69",
   "metadata": {},
   "outputs": [
    {
     "name": "stdout",
     "output_type": "stream",
     "text": [
      "Audio duration orginal is 17.462666666666667 seconds, now is the 8.0, the audio changing to the MONO\n",
      "Referece_MP3File:/home/codecrack/CodecBreakerwithRL/AudioEX/Mixing_Result_Mp3_Wav/Reference_64kbps.wav\n"
     ]
    }
   ],
   "source": [
    "Mixing_Path = '/home/codecrack/CodecBreakerwithRL/AudioEX/'\n",
    "Noise_Generator_MP3 = SingleFileAudioMixer(filename=\"reggae.wav\", foldpath=Mixing_Path, TrackType = NEUtil.MixingType.File)\n",
    "Referece_File,_ = Noise_Generator_MP3.TestNoisedOnlyFile([0,0,0,0],\"Reference.wav\")\n",
    "Referece_File\n",
    "Referece_MP3File = Evaluator.Mp3LameLossyCompress(Referece_File,64)\n",
    "print(f\"Referece_MP3File:{Referece_MP3File}\")"
   ]
  },
  {
   "cell_type": "code",
   "execution_count": 4,
   "id": "18d7f839-a034-4126-84a1-af42081c2a6f",
   "metadata": {},
   "outputs": [
    {
     "data": {
      "text/plain": [
       "0.9985486850848575"
      ]
     },
     "execution_count": 4,
     "metadata": {},
     "output_type": "execute_result"
    }
   ],
   "source": [
    "####initalise the Haaqi\n",
    "MeasureHAAQI = MeasureHAAQIOutput(Referece_MP3File)#Initilize the HAAQI with a permanent reference\n",
    "MeasureHAAQI.MeasureHAQQIOutput(Referece_MP3File) #Test on how far from itself to itself"
   ]
  },
  {
   "cell_type": "code",
   "execution_count": 5,
   "id": "abb5ac34-9837-457b-aa76-27a4affaa7dd",
   "metadata": {},
   "outputs": [],
   "source": [
    "def haaqi_reward_fn(solution: np.ndarray) -> float:\n",
    "    thre = solution[0]\n",
    "    thre = thre - 15\n",
    "    ratio = solution[1]\n",
    "    ratio = ratio + 5\n",
    "    attack = solution[2]\n",
    "    attack = attack + 10\n",
    "    release = solution[3] \n",
    "    release = release + 300\n",
    "    degradated_filename = f'audio_mixing_reggea_dynC_thre_{thre}_ratio_{ratio}_attk_{attack}_rele_{release}.wav'\n",
    "    gener_Audio = Noise_Generator_MP3.TestNoisedOnlyFileOnlyDynamicCompressor(outputfilename = degradated_filename,\n",
    "                                                               threshold = thre,\n",
    "                                                               ratio = ratio,\n",
    "                                                               attack = attack,\n",
    "                                                               release = release)\n",
    "    gener_Audio_mp3 = Evaluator.Mp3LameLossyCompress(gener_Audio,64)\n",
    "    score = MeasureHAAQI.MeasureHAQQIOutput(gener_Audio_mp3)\n",
    "#    print(f\"Current degraded thre:{thre}, ratio: {ratio}, attack:{attack},release:{release} bring the HAAQI score to {score}\")\n",
    "    return 1-score"
   ]
  },
  {
   "cell_type": "code",
   "execution_count": 7,
   "id": "77209ed8-42c9-4f23-9257-7f0bd900d88d",
   "metadata": {},
   "outputs": [
    {
     "data": {
      "text/plain": [
       "0.09726680463629833"
      ]
     },
     "execution_count": 7,
     "metadata": {},
     "output_type": "execute_result"
    }
   ],
   "source": [
    "###inital\n",
    "haaqi_reward_fn(np.array([1, 0, 1, -50]))"
   ]
  },
  {
   "cell_type": "markdown",
   "id": "97bf03c6-8630-4937-9e97-2a379641f40c",
   "metadata": {},
   "source": [
    "## Ranking"
   ]
  },
  {
   "cell_type": "markdown",
   "id": "6e4d4eb2-d98f-4ad9-b310-244abbea44fe",
   "metadata": {},
   "source": [
    "### GA"
   ]
  },
  {
   "cell_type": "code",
   "execution_count": 15,
   "id": "5e5e5016-37b2-416f-b0f1-9eb805385224",
   "metadata": {},
   "outputs": [
    {
     "data": {
      "text/plain": [
       "0.25147015798225136"
      ]
     },
     "execution_count": 15,
     "metadata": {},
     "output_type": "execute_result"
    }
   ],
   "source": [
    "###Worst result for GA Until the 11.July\n",
    "###haaqi_reward_fn(np.array([-12.4, 2.7, -6.8, -56]))\n",
    "####Worst result for GA Until the 12.July \n",
    "haaqi_reward_fn(np.array([-14.9, 3.3, -9.0, -193]))"
   ]
  },
  {
   "cell_type": "markdown",
   "id": "a9b303fd-575c-46b0-b917-c579128b7ab2",
   "metadata": {},
   "source": [
    "### RL in Continous"
   ]
  },
  {
   "cell_type": "code",
   "execution_count": 24,
   "id": "8358b863-572b-49b1-a78d-0f38c772ff50",
   "metadata": {},
   "outputs": [
    {
     "data": {
      "text/plain": [
       "0.3335415127030843"
      ]
     },
     "execution_count": 24,
     "metadata": {},
     "output_type": "execute_result"
    }
   ],
   "source": [
    "####Worst result for GA Until the 12.July [-1.2019364  -5.0801964  -3.631278  -54.986313]\n",
    "haaqi_reward_fn(np.array([-1.2019,-5.0801,-3.6313,-54.9863]))"
   ]
  },
  {
   "cell_type": "markdown",
   "id": "9479d3e9-01f9-4cc4-bb71-ec17d0cfb651",
   "metadata": {},
   "source": [
    "### Import Discrete RL module"
   ]
  },
  {
   "cell_type": "code",
   "execution_count": null,
   "id": "2a841a29-0045-4ff6-a59f-0aa08ea272e2",
   "metadata": {},
   "outputs": [],
   "source": [
    "import Optimiser"
   ]
  },
  {
   "cell_type": "code",
   "execution_count": null,
   "id": "87b93225-1b54-42e5-ad94-0f33707d18e0",
   "metadata": {},
   "outputs": [],
   "source": [
    "import Optimiser.discrete_RL_train\n",
    "from Optimiser.discrete_RL_train import discrete_RL_train as RLTrain"
   ]
  },
  {
   "cell_type": "code",
   "execution_count": null,
   "id": "b75bdcf0-7888-4c2d-b2aa-ea0aad3ac02f",
   "metadata": {
    "scrolled": true
   },
   "outputs": [],
   "source": [
    "trainner = RLTrain()\n",
    "trainner.set_environments(haaqi_reward_fn)\n",
    "trainner.train()"
   ]
  },
  {
   "cell_type": "code",
   "execution_count": 26,
   "id": "39dc7545-65b7-4895-a94f-9ee28ebd14b1",
   "metadata": {},
   "outputs": [
    {
     "name": "stdout",
     "output_type": "stream",
     "text": [
      "After LUFS, the mixing ouput in the RMS, Total: -9.24dB, Clipping Ratio&Cliped Num: (0.0011848958333333334, 455)\n",
      "Current degraded thre:-18.9, ratio: 3.5, attack:5.699999999999999,release:247.38000000000002 bring the HAAQI score to 0.8496384255903743\n"
     ]
    },
    {
     "data": {
      "text/plain": [
       "0.15036157440962572"
      ]
     },
     "execution_count": 26,
     "metadata": {},
     "output_type": "execute_result"
    }
   ],
   "source": [
    "###Worst result for discrete ReinforcementL Until the 11.July\n",
    "haaqi_reward_fn(np.array([ -3.9 ,  -0.5 ,  -4.4 , -52.72]))"
   ]
  },
  {
   "cell_type": "code",
   "execution_count": 4,
   "id": "eb6cd6be-9a29-4fed-898d-9d546fba6a3a",
   "metadata": {},
   "outputs": [],
   "source": [
    "Noise_Generator_MP3.EraseTheMp3Mixing()"
   ]
  },
  {
   "cell_type": "markdown",
   "id": "3dc3f180-42ea-4377-81e7-293e8d053e2e",
   "metadata": {},
   "source": [
    "### Import Continous RL"
   ]
  },
  {
   "cell_type": "code",
   "execution_count": 11,
   "id": "8b55d64d-deb0-42a6-bd17-1ac6cf3eda26",
   "metadata": {},
   "outputs": [],
   "source": [
    "import Optimiser"
   ]
  },
  {
   "cell_type": "code",
   "execution_count": 12,
   "id": "cc061f54-6ccb-44de-afd5-f5d7b7d57fd2",
   "metadata": {},
   "outputs": [
    {
     "name": "stderr",
     "output_type": "stream",
     "text": [
      "2025-07-12 16:27:25.699189: I tensorflow/core/util/port.cc:113] oneDNN custom operations are on. You may see slightly different numerical results due to floating-point round-off errors from different computation orders. To turn them off, set the environment variable `TF_ENABLE_ONEDNN_OPTS=0`.\n",
      "2025-07-12 16:27:25.906668: E external/local_xla/xla/stream_executor/cuda/cuda_dnn.cc:9261] Unable to register cuDNN factory: Attempting to register factory for plugin cuDNN when one has already been registered\n",
      "2025-07-12 16:27:25.906721: E external/local_xla/xla/stream_executor/cuda/cuda_fft.cc:607] Unable to register cuFFT factory: Attempting to register factory for plugin cuFFT when one has already been registered\n",
      "2025-07-12 16:27:25.939702: E external/local_xla/xla/stream_executor/cuda/cuda_blas.cc:1515] Unable to register cuBLAS factory: Attempting to register factory for plugin cuBLAS when one has already been registered\n",
      "2025-07-12 16:27:26.012197: I tensorflow/core/platform/cpu_feature_guard.cc:182] This TensorFlow binary is optimized to use available CPU instructions in performance-critical operations.\n",
      "To enable the following instructions: AVX2 AVX_VNNI FMA, in other operations, rebuild TensorFlow with the appropriate compiler flags.\n",
      "2025-07-12 16:27:27.219318: W tensorflow/compiler/tf2tensorrt/utils/py_utils.cc:38] TF-TRT Warning: Could not find TensorRT\n",
      "2025-07-12 16:27:30.953645: E external/local_xla/xla/stream_executor/cuda/cuda_driver.cc:274] failed call to cuInit: CUDA_ERROR_NO_DEVICE: no CUDA-capable device is detected\n"
     ]
    }
   ],
   "source": [
    "import Optimiser.continous_RL_train\n",
    "from Optimiser.continous_RL_train import continous_RL_train as CRLTrain"
   ]
  },
  {
   "cell_type": "code",
   "execution_count": 13,
   "id": "f823ae2d-88a2-435c-b874-50d94c8012ab",
   "metadata": {},
   "outputs": [
    {
     "name": "stdout",
     "output_type": "stream",
     "text": [
      "WARNING:tensorflow:From /home/codecrack/CodecBreakerwithRL/Optimiser/continous_RL_train.py:108: ReplayBuffer.gather_all (from tf_agents.replay_buffers.replay_buffer) is deprecated and will be removed in a future version.\n",
      "Instructions for updating:\n",
      "Use `as_dataset(..., single_deterministic_pass=True)` instead.\n",
      "[step   0] mean entropy per-dim = 5.5707\n",
      "final reward before udpate: -1000000000.0\n",
      "final reward after udpate: 0.13959818\n",
      "updated final_solution= [ -5.7188005  -3.241129   -2.7341576 -47.553318 ]\n",
      "train_step no.= 1\n",
      "best_solution of this generation= [ -5.7188005  -3.241129   -2.7341576 -47.553318 ]\n",
      "best step reward= 0.14\n",
      "avg step reward= 0.084\n",
      "act_std: tf.Tensor([0.9740769 0.9740769 0.9740769 0.9740769], shape=(4,), dtype=float32)\n",
      "act_mean: tf.Tensor([-0.06840445 -0.02574186  0.0351551   0.00981691], shape=(4,), dtype=float32)\n",
      "best_step_index: [1, 9]\n",
      " \n",
      "[step   1] mean entropy per-dim = 5.5707\n",
      "final reward before udpate: 0.13959818\n",
      "final reward after udpate: 0.1457996\n",
      "updated final_solution= [ -2.957088    5.2322173  -3.5029109 -50.32147  ]\n",
      "[step   2] mean entropy per-dim = 5.5702\n",
      "[step   3] mean entropy per-dim = 5.5703\n",
      "[step   4] mean entropy per-dim = 5.5702\n",
      "final reward before udpate: 0.1457996\n",
      "final reward after udpate: 0.16578723\n",
      "updated final_solution= [  1.3943722   -5.0631857   -0.05657443 -52.400726  ]\n",
      "[step   5] mean entropy per-dim = 5.5703\n",
      "[step   6] mean entropy per-dim = 5.5703\n",
      "[step   7] mean entropy per-dim = 5.5702\n",
      "[step   8] mean entropy per-dim = 5.5700\n",
      "[step   9] mean entropy per-dim = 5.5700\n",
      "[step  10] mean entropy per-dim = 5.5698\n",
      "[step  11] mean entropy per-dim = 5.5697\n",
      "[step  12] mean entropy per-dim = 5.5695\n",
      "[step  13] mean entropy per-dim = 5.5695\n",
      "[step  14] mean entropy per-dim = 5.5696\n",
      "[step  15] mean entropy per-dim = 5.5696\n",
      "[step  16] mean entropy per-dim = 5.5694\n",
      "[step  17] mean entropy per-dim = 5.5692\n",
      "[step  18] mean entropy per-dim = 5.5689\n",
      "[step  19] mean entropy per-dim = 5.5687\n",
      "[step  20] mean entropy per-dim = 5.5688\n",
      "final reward before udpate: 0.16578723\n",
      "final reward after udpate: 0.17183438\n",
      "updated final_solution= [ -4.965765   -5.5710516   7.773093  -52.917618 ]\n",
      "train_step no.= 21\n",
      "best_solution of this generation= [ -4.965765   -5.5710516   7.773093  -52.917618 ]\n",
      "best step reward= 0.172\n",
      "avg step reward= 0.114\n",
      "act_std: tf.Tensor([0.97330844 0.9735207  0.97384316 0.9738202 ], shape=(4,), dtype=float32)\n",
      "act_mean: tf.Tensor([-0.07326768 -0.01794145  0.03458638  0.00423857], shape=(4,), dtype=float32)\n",
      "best_step_index: [1, 9]\n",
      " \n",
      "[step  21] mean entropy per-dim = 5.5690\n",
      "[step  22] mean entropy per-dim = 5.5691\n",
      "final reward before udpate: 0.17183438\n",
      "final reward after udpate: 0.25615206\n",
      "updated final_solution= [ -2.9272957  -5.187175   -2.8928905 -52.029266 ]\n",
      "[step  23] mean entropy per-dim = 5.5692\n",
      "[step  24] mean entropy per-dim = 5.5695\n",
      "final reward before udpate: 0.25615206\n",
      "final reward after udpate: 0.32864282\n",
      "updated final_solution= [ -1.2019364  -5.0801964  -3.631278  -54.986313 ]\n",
      "[step  25] mean entropy per-dim = 5.5696\n",
      "[step  26] mean entropy per-dim = 5.5695\n",
      "[step  27] mean entropy per-dim = 5.5697\n",
      "[step  28] mean entropy per-dim = 5.5695\n",
      "[step  29] mean entropy per-dim = 5.5694\n",
      "final_solution= [ -1.2019364  -5.0801964  -3.631278  -54.986313 ] final_reward= 0.32864282\n"
     ]
    },
    {
     "data": {
      "text/plain": [
       "([0.13959818,\n",
       "  0.1457996,\n",
       "  0.1457996,\n",
       "  0.1457996,\n",
       "  0.16578723,\n",
       "  0.16578723,\n",
       "  0.16578723,\n",
       "  0.16578723,\n",
       "  0.16578723,\n",
       "  0.16578723,\n",
       "  0.16578723,\n",
       "  0.16578723,\n",
       "  0.16578723,\n",
       "  0.16578723,\n",
       "  0.16578723,\n",
       "  0.16578723,\n",
       "  0.16578723,\n",
       "  0.16578723,\n",
       "  0.16578723,\n",
       "  0.16578723,\n",
       "  0.17183438,\n",
       "  0.17183438,\n",
       "  0.25615206,\n",
       "  0.25615206,\n",
       "  0.32864282,\n",
       "  0.32864282,\n",
       "  0.32864282,\n",
       "  0.32864282,\n",
       "  0.32864282,\n",
       "  0.32864282],\n",
       " array([ -1.2019364,  -5.0801964,  -3.631278 , -54.986313 ], dtype=float32),\n",
       " 0.32864282)"
      ]
     },
     "execution_count": 13,
     "metadata": {},
     "output_type": "execute_result"
    }
   ],
   "source": [
    "trainner = CRLTrain()\n",
    "trainner.set_environments(haaqi_reward_fn)\n",
    "trainner.train()"
   ]
  },
  {
   "cell_type": "markdown",
   "id": "3e10092f-80eb-4058-9065-64b357bd7981",
   "metadata": {},
   "source": [
    "### Import GA module"
   ]
  },
  {
   "cell_type": "code",
   "execution_count": 6,
   "id": "c66cd119-2e83-4518-9597-12b468ca3cfd",
   "metadata": {},
   "outputs": [],
   "source": [
    "import Optimiser.genetic_evo\n",
    "from Optimiser.genetic_evo import GeneticOptimiser"
   ]
  },
  {
   "cell_type": "code",
   "execution_count": 7,
   "id": "b9a56e0b-c9e9-42b2-8df4-038c01951061",
   "metadata": {},
   "outputs": [],
   "source": [
    "GA_Opt = GeneticOptimiser()"
   ]
  },
  {
   "cell_type": "code",
   "execution_count": 8,
   "id": "9a8dd5f9-89dc-46af-bc46-464612ecc91e",
   "metadata": {},
   "outputs": [],
   "source": [
    "GA_Opt.ga_init_env()"
   ]
  },
  {
   "cell_type": "code",
   "execution_count": 9,
   "id": "07fc88ab-f1c5-41d2-89af-c6caf515df40",
   "metadata": {},
   "outputs": [],
   "source": [
    "GA_Opt.set_fitnessfun(haaqi_reward_fn)"
   ]
  },
  {
   "cell_type": "code",
   "execution_count": 10,
   "id": "77bf137c-68a4-45ca-bab8-f67e8f494a2b",
   "metadata": {
    "scrolled": true
   },
   "outputs": [
    {
     "name": "stdout",
     "output_type": "stream",
     "text": [
      "sol_per_pop: 30, num_genes: 4, num_generations: 30, preset_population: [[1.0, 0.0, 1.0, -50.0]]\n"
     ]
    },
    {
     "name": "stderr",
     "output_type": "stream",
     "text": [
      "/root/anaconda3/envs/codecbreak/lib/python3.10/site-packages/pygad/pygad.py:753: UserWarning: The percentage of genes to mutate (mutation_percent_genes=0.2) resulted in selecting (0) genes. The number of genes to mutate is set to 1 (mutation_num_genes=1).\n",
      "If you do not want to mutate any gene, please set mutation_type=None.\n",
      "  warnings.warn(f\"The percentage of genes to mutate (mutation_percent_genes={mutation_percent_genes}) resulted in selecting ({mutation_num_genes}) genes. The number of genes to mutate is set to 1 (mutation_num_genes=1).\\nIf you do not want to mutate any gene, please set mutation_type=None.\")\n",
      "/root/anaconda3/envs/codecbreak/lib/python3.10/site-packages/pygad/pygad.py:1149: UserWarning: Use the 'save_best_solutions' parameter with caution as it may cause memory overflow when either the number of generations or number of genes is large.\n",
      "  warnings.warn(\"Use the 'save_best_solutions' parameter with caution as it may cause memory overflow when either the number of generations or number of genes is large.\")\n",
      "/root/anaconda3/envs/codecbreak/lib/python3.10/site-packages/pygad/pygad.py:1158: UserWarning: Use the 'save_solutions' parameter with caution as it may cause memory overflow when either the number of generations, number of genes, or number of solutions in population is large.\n",
      "  warnings.warn(\"Use the 'save_solutions' parameter with caution as it may cause memory overflow when either the number of generations, number of genes, or number of solutions in population is large.\")\n"
     ]
    },
    {
     "name": "stdout",
     "output_type": "stream",
     "text": [
      "Generation :  1\n",
      "The last best Solution :  {(-14.5, 0.4, -8.2, -158)}\n",
      "Fitness of the last best solution : {0.17863494786431056}\n",
      "Generation :  2\n",
      "The last best Solution :  {(-14.5, 3.6, -8.2, -152)}\n",
      "Fitness of the last best solution : {0.21636713041053268}\n",
      "Generation :  3\n",
      "The last best Solution :  {(-14.5, 3.6, -8.2, -152)}\n",
      "Fitness of the last best solution : {0.22850532848238503}\n",
      "Generation :  4\n",
      "The last best Solution :  {(-14.5, 3.4, -8.2, -158)}\n",
      "Fitness of the last best solution : {0.22850532848238503}\n",
      "Generation :  5\n",
      "The last best Solution :  {(-14.5, 3.6, -9.0, -158)}\n",
      "Fitness of the last best solution : {0.23060909500263138}\n",
      "Generation :  6\n",
      "The last best Solution :  {(-14.5, 2.6, -9.0, -193)}\n",
      "Fitness of the last best solution : {0.24070948118443136}\n",
      "Generation :  7\n",
      "The last best Solution :  {(-14.5, 2.6, -9.0, -193)}\n",
      "Fitness of the last best solution : {0.24338912132691082}\n",
      "Generation :  8\n",
      "The last best Solution :  {(-14.5, 2.6, -9.0, -193)}\n",
      "Fitness of the last best solution : {0.24338912132691082}\n",
      "Generation :  9\n",
      "The last best Solution :  {(-14.5, 3.4, -9.0, -193)}\n",
      "Fitness of the last best solution : {0.24338912132691082}\n",
      "Generation :  10\n",
      "The last best Solution :  {(-14.5, 3.4, -9.0, -193)}\n",
      "Fitness of the last best solution : {0.24712911104024993}\n",
      "Generation :  11\n",
      "The last best Solution :  {(-14.5, 3.4, -9.0, -193)}\n",
      "Fitness of the last best solution : {0.24712910851613445}\n",
      "Generation :  12\n",
      "The last best Solution :  {(-14.9, 3.4, -9.0, -193)}\n",
      "Fitness of the last best solution : {0.24712910851613445}\n",
      "Generation :  13\n",
      "The last best Solution :  {(-14.9, 3.4, -9.0, -193)}\n",
      "Fitness of the last best solution : {0.24977071106247706}\n",
      "Generation :  14\n",
      "The last best Solution :  {(-14.9, 3.4, -9.0, -193)}\n",
      "Fitness of the last best solution : {0.24977071106247706}\n",
      "Generation :  15\n",
      "The last best Solution :  {(-14.9, 3.4, -9.0, -193)}\n",
      "Fitness of the last best solution : {0.24977071106247706}\n",
      "Generation :  16\n",
      "The last best Solution :  {(-14.9, 3.4, -9.0, -193)}\n",
      "Fitness of the last best solution : {0.24977071106247706}\n",
      "Generation :  17\n",
      "The last best Solution :  {(-14.9, 3.3, -9.0, -193)}\n",
      "Fitness of the last best solution : {0.24977071106247706}\n",
      "Generation :  18\n",
      "The last best Solution :  {(-14.9, 3.3, -9.0, -193)}\n",
      "Fitness of the last best solution : {0.2514701585771253}\n",
      "Generation :  19\n",
      "The last best Solution :  {(-14.9, 3.3, -9.0, -193)}\n",
      "Fitness of the last best solution : {0.2514701585771253}\n",
      "Generation :  20\n",
      "The last best Solution :  {(-14.9, 3.3, -9.0, -193)}\n",
      "Fitness of the last best solution : {0.2514701585771253}\n",
      "Generation :  21\n",
      "The last best Solution :  {(-14.9, 3.3, -9.0, -193)}\n",
      "Fitness of the last best solution : {0.2514701585771253}\n",
      "Generation :  22\n",
      "The last best Solution :  {(-14.9, 3.3, -9.0, -193)}\n",
      "Fitness of the last best solution : {0.2514701585771253}\n",
      "Generation :  23\n",
      "The last best Solution :  {(-14.9, 3.3, -9.0, -193)}\n",
      "Fitness of the last best solution : {0.2514701585771253}\n",
      "Generation :  24\n",
      "The last best Solution :  {(-14.9, 3.3, -9.0, -193)}\n",
      "Fitness of the last best solution : {0.2514701585771253}\n",
      "Generation :  25\n",
      "The last best Solution :  {(-14.9, 3.3, -9.0, -193)}\n",
      "Fitness of the last best solution : {0.2514701585771253}\n",
      "Generation :  26\n",
      "The last best Solution :  {(-14.9, 3.3, -9.0, -193)}\n",
      "Fitness of the last best solution : {0.2514701585771253}\n",
      "Generation :  27\n",
      "The last best Solution :  {(-14.9, 3.3, -9.0, -193)}\n",
      "Fitness of the last best solution : {0.2514701585771253}\n",
      "Generation :  28\n",
      "The last best Solution :  {(-14.9, 3.3, -9.0, -193)}\n",
      "Fitness of the last best solution : {0.2514701585771253}\n",
      "Generation :  29\n",
      "The last best Solution :  {(-14.9, 3.3, -9.0, -193)}\n",
      "Fitness of the last best solution : {0.2514701585771253}\n",
      "Generation :  30\n",
      "The last best Solution :  {(-14.9, 3.3, -9.0, -193)}\n",
      "Fitness of the last best solution : {0.2514701585771253}\n"
     ]
    }
   ],
   "source": [
    "GA_Opt.run()"
   ]
  },
  {
   "cell_type": "code",
   "execution_count": null,
   "id": "ccefccc3-37b9-4f74-9a31-124eac8e5747",
   "metadata": {},
   "outputs": [],
   "source": []
  }
 ],
 "metadata": {
  "kernelspec": {
   "display_name": "Python 3 (ipykernel)",
   "language": "python",
   "name": "python3"
  },
  "language_info": {
   "codemirror_mode": {
    "name": "ipython",
    "version": 3
   },
   "file_extension": ".py",
   "mimetype": "text/x-python",
   "name": "python",
   "nbconvert_exporter": "python",
   "pygments_lexer": "ipython3",
   "version": "3.10.18"
  }
 },
 "nbformat": 4,
 "nbformat_minor": 5
}
