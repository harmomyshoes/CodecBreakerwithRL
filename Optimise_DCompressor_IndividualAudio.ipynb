{
 "cells": [
  {
   "cell_type": "code",
   "execution_count": 1,
   "id": "20dcc57e-8272-4861-8ab3-310aa516f709",
   "metadata": {},
   "outputs": [],
   "source": [
    "import numpy as np\n",
    "import pandas as pd\n",
    "from CODECbreakCode.AudioMixer import SingleFileAudioMixer\n",
    "import CODECbreakCode.Evaluator as Evaluator\n",
    "from CODECbreakCode.Evaluator import MeasureHAAQIOutput\n",
    "import CODECbreakCode.NoiseEval as NEUtil\n",
    "import argparse"
   ]
  },
  {
   "cell_type": "code",
   "execution_count": 2,
   "id": "c93df550-88b7-47ca-9557-2ce72933aa6a",
   "metadata": {},
   "outputs": [],
   "source": [
    "import warnings\n",
    "warnings.filterwarnings(\"ignore\", \"Possible clipped samples in output.\")"
   ]
  },
  {
   "cell_type": "code",
   "execution_count": 7,
   "id": "e86d1ca1-5dfb-4846-953a-ff777ab2213a",
   "metadata": {},
   "outputs": [
    {
     "name": "stdout",
     "output_type": "stream",
     "text": [
      "Audio duration orginal is 17.462666666666667 seconds, now is the 8.0, the audio changing to the MONO\n",
      "After LUFS, the mixing ouput in the RMS, Total: -9.11dB, Clipping Ratio&Cliped Num: (0.002002604166666667, 769)\n"
     ]
    },
    {
     "data": {
      "text/plain": [
       "'/home/codecrack/ML_Test/AudioEX/Mixing_Result/Reference.wav'"
      ]
     },
     "execution_count": 7,
     "metadata": {},
     "output_type": "execute_result"
    }
   ],
   "source": [
    "Mixing_Path = '/home/codecrack/ML_Test/AudioEX'\n",
    "Noise_Generator_MP3 = SingleFileAudioMixer(filename=\"reggae.wav\", foldpath=Mixing_Path, TrackType = NEUtil.MixingType.File)\n",
    "Referece_File,_ = Noise_Generator_MP3.TestNoisedOnlyFile([0,0,0,0],\"Reference.wav\")\n",
    "Referece_File"
   ]
  },
  {
   "cell_type": "code",
   "execution_count": 8,
   "id": "d4b740d5-7931-4484-8c75-cb133a2a7301",
   "metadata": {},
   "outputs": [
    {
     "name": "stdout",
     "output_type": "stream",
     "text": [
      "Referece_MP3File:/home/codecrack/ML_Test/AudioEX/Mixing_Result_Mp3_Wav/Reference_64kbps.wav\n"
     ]
    }
   ],
   "source": [
    "Referece_MP3File = Evaluator.Mp3LameLossyCompress(Referece_File,64)\n",
    "print(f\"Referece_MP3File:{Referece_MP3File}\")"
   ]
  },
  {
   "cell_type": "code",
   "execution_count": 17,
   "id": "4bb0fdf8-da33-48af-872f-63ec0e1bf1f7",
   "metadata": {},
   "outputs": [
    {
     "data": {
      "text/plain": [
       "0.9985486851363841"
      ]
     },
     "execution_count": 17,
     "metadata": {},
     "output_type": "execute_result"
    }
   ],
   "source": [
    "####initalise the Haaqi\n",
    "MeasureHAAQI = MeasureHAAQIOutput(Referece_MP3File)#Initilize the HAAQI with a permanent reference\n",
    "MeasureHAAQI.MeasureHAQQIOutput(Referece_MP3File) #Test on how far from itself to itself"
   ]
  },
  {
   "cell_type": "code",
   "execution_count": 37,
   "id": "0072b93b-f849-4365-b9ca-75dd9604aefc",
   "metadata": {},
   "outputs": [],
   "source": [
    "#TestNoisedOnlyFileOnlyDynamicCompressor(self,outputfilename,threshold=-3.0, ratio=3,attack=0.1,release=1.0,makeup_gain=0.0,knee_width=1.0)\n",
    "#threshold=-3.0, ratio=3,attack=0.1,release=1.0,makeup_gain=0.0,knee_width=1.0, the time is in ms unit\n",
    "solution = [-15.0, 4, 0.1, 10]"
   ]
  },
  {
   "cell_type": "code",
   "execution_count": 38,
   "id": "3139741a-f954-4ad2-a071-c67fabaa7a32",
   "metadata": {},
   "outputs": [
    {
     "name": "stdout",
     "output_type": "stream",
     "text": [
      "After LUFS, the mixing ouput in the RMS, Total: -9.22dB, Clipping Ratio&Cliped Num: (0.0, 3)\n"
     ]
    },
    {
     "name": "stderr",
     "output_type": "stream",
     "text": [
      "/root/anaconda3/lib/python3.11/site-packages/audiomentations/core/transforms_interface.py:62: UserWarning: Warning: input samples dtype is np.float64. Converting to np.float32\n",
      "  warnings.warn(\n"
     ]
    }
   ],
   "source": [
    "thre = solution[0]\n",
    "ratio = solution[1]\n",
    "attack = solution[2]\n",
    "release = solution[3] \n",
    "degradated_filename = f'audio_mixing_reggea_dynC_thre_{thre}_ratio_{ratio}_attk_{attack}_rele_{release}.wav'\n",
    "gener_Audio = Noise_Generator_MP3.TestNoisedOnlyFileOnlyDynamicCompressor(outputfilename = degradated_filename,\n",
    "                                                           threshold = thre,\n",
    "                                                           ratio = ratio,\n",
    "                                                           attack = attack,\n",
    "                                                           release = release)\n",
    "\n",
    "gener_Audio_mp3 = Evaluator.Mp3LameLossyCompress(gener_Audio,64)"
   ]
  },
  {
   "cell_type": "code",
   "execution_count": 39,
   "id": "6b4eca8e-da83-45b2-9945-44034af43e87",
   "metadata": {},
   "outputs": [
    {
     "name": "stdout",
     "output_type": "stream",
     "text": [
      "Current degraded bring the HAAQI score to 0.856225521186442\n"
     ]
    }
   ],
   "source": [
    "score = MeasureHAAQI.MeasureHAQQIOutput(gener_Audio_mp3)\n",
    "print(f\"Current degraded bring the HAAQI score to {score}\")"
   ]
  },
  {
   "cell_type": "code",
   "execution_count": 21,
   "id": "e475ae1f-056f-4c88-b2aa-e836f2863874",
   "metadata": {},
   "outputs": [
    {
     "name": "stdout",
     "output_type": "stream",
     "text": [
      "Current degraded bring the HAAQI score to 0.9696815019224343\n"
     ]
    }
   ],
   "source": [
    "score = MeasureHAAQI.MeasureHAQQIOutput('/home/codecrack/ML_Test/AudioEX/Mixing_Result_Mp3_Wav/audio_mixing_reggea_dynC_thre_-10.0_ratio_4_attk_0.15_rele_10_64kbps.wav')\n",
    "print(f\"Current degraded bring the HAAQI score to {score}\")"
   ]
  },
  {
   "cell_type": "code",
   "execution_count": null,
   "id": "39dc7545-65b7-4895-a94f-9ee28ebd14b1",
   "metadata": {},
   "outputs": [],
   "source": []
  }
 ],
 "metadata": {
  "kernelspec": {
   "display_name": "Python 3 (ipykernel)",
   "language": "python",
   "name": "python3"
  },
  "language_info": {
   "codemirror_mode": {
    "name": "ipython",
    "version": 3
   },
   "file_extension": ".py",
   "mimetype": "text/x-python",
   "name": "python",
   "nbconvert_exporter": "python",
   "pygments_lexer": "ipython3",
   "version": "3.11.5"
  }
 },
 "nbformat": 4,
 "nbformat_minor": 5
}
