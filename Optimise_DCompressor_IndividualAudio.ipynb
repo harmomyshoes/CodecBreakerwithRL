{
 "cells": [
  {
   "cell_type": "markdown",
   "id": "b861a11c-c8be-4386-a6c3-88e4351fcc9d",
   "metadata": {},
   "source": [
    "### Import mix module "
   ]
  },
  {
   "cell_type": "code",
   "execution_count": 9,
   "id": "89d00b6e-07fc-42a7-8f50-fc6d58ef3e2a",
   "metadata": {},
   "outputs": [],
   "source": [
    "import numpy as np\n",
    "import pandas as pd\n",
    "from CODECbreakCode.AudioMixer import SingleFileAudioMixer\n",
    "import CODECbreakCode.Evaluator as Evaluator\n",
    "from CODECbreakCode.Evaluator import MeasureHAAQIOutput\n",
    "import CODECbreakCode.NoiseEval as NEUtil\n",
    "import argparse"
   ]
  },
  {
   "cell_type": "code",
   "execution_count": 10,
   "id": "c93df550-88b7-47ca-9557-2ce72933aa6a",
   "metadata": {},
   "outputs": [],
   "source": [
    "import warnings\n",
    "warnings.filterwarnings(\"ignore\", \"Possible clipped samples in output.\")\n",
    "warnings.filterwarnings(\"ignore\",message=\"Warning: input samples dtype is np.float64. Converting to np.float32\")"
   ]
  },
  {
   "cell_type": "code",
   "execution_count": 11,
   "id": "3d863747-3207-4dca-8ad2-6e7a83e5ac69",
   "metadata": {},
   "outputs": [
    {
     "name": "stdout",
     "output_type": "stream",
     "text": [
      "Audio duration orginal is 17.462666666666667 seconds, now is the 8.0, the audio changing to the MONO\n",
      "After LUFS, the mixing ouput in the RMS, Total: -9.11dB, Clipping Ratio&Cliped Num: (0.002002604166666667, 769)\n",
      "Referece_MP3File:/home/codecrack/CodecBreakerwithRL/AudioEX/Mixing_Result_Mp3_Wav/Reference_64kbps.wav\n"
     ]
    }
   ],
   "source": [
    "Mixing_Path = '/home/codecrack/CodecBreakerwithRL/AudioEX/'\n",
    "Noise_Generator_MP3 = SingleFileAudioMixer(filename=\"reggae.wav\", foldpath=Mixing_Path, TrackType = NEUtil.MixingType.File)\n",
    "Referece_File,_ = Noise_Generator_MP3.TestNoisedOnlyFile([0,0,0,0],\"Reference.wav\")\n",
    "Referece_File\n",
    "Referece_MP3File = Evaluator.Mp3LameLossyCompress(Referece_File,64)\n",
    "print(f\"Referece_MP3File:{Referece_MP3File}\")"
   ]
  },
  {
   "cell_type": "code",
   "execution_count": 12,
   "id": "18d7f839-a034-4126-84a1-af42081c2a6f",
   "metadata": {},
   "outputs": [
    {
     "data": {
      "text/plain": [
       "0.9985486851271597"
      ]
     },
     "execution_count": 12,
     "metadata": {},
     "output_type": "execute_result"
    }
   ],
   "source": [
    "####initalise the Haaqi\n",
    "MeasureHAAQI = MeasureHAAQIOutput(Referece_MP3File)#Initilize the HAAQI with a permanent reference\n",
    "MeasureHAAQI.MeasureHAQQIOutput(Referece_MP3File) #Test on how far from itself to itself"
   ]
  },
  {
   "cell_type": "code",
   "execution_count": 13,
   "id": "abb5ac34-9837-457b-aa76-27a4affaa7dd",
   "metadata": {},
   "outputs": [],
   "source": [
    "def haaqi_reward_fn(solution: np.ndarray) -> float:\n",
    "    thre = solution[0]\n",
    "    thre = thre - 15\n",
    "    ratio = solution[1]\n",
    "    ratio = ratio + 4\n",
    "    attack = solution[2]\n",
    "    attack = attack + 10.1\n",
    "    release = solution[3] \n",
    "    release = release + 300.1\n",
    "    degradated_filename = f'audio_mixing_reggea_dynC_thre_{thre}_ratio_{ratio}_attk_{attack}_rele_{release}.wav'\n",
    "    gener_Audio = Noise_Generator_MP3.TestNoisedOnlyFileOnlyDynamicCompressor(outputfilename = degradated_filename,\n",
    "                                                               threshold = thre,\n",
    "                                                               ratio = ratio,\n",
    "                                                               attack = attack,\n",
    "                                                               release = release)\n",
    "    gener_Audio_mp3 = Evaluator.Mp3LameLossyCompress(gener_Audio,64)\n",
    "    score = MeasureHAAQI.MeasureHAQQIOutput(gener_Audio_mp3)\n",
    "    print(f\"Current degraded thre:{thre}, ratio: {ratio}, attack:{attack},release:{release} bring the HAAQI score to {score}\")\n",
    "    return 1-score"
   ]
  },
  {
   "cell_type": "code",
   "execution_count": 14,
   "id": "77209ed8-42c9-4f23-9257-7f0bd900d88d",
   "metadata": {},
   "outputs": [
    {
     "name": "stdout",
     "output_type": "stream",
     "text": [
      "After LUFS, the mixing ouput in the RMS, Total: -9.12dB, Clipping Ratio&Cliped Num: (0.0019036458333333334, 731)\n",
      "Current degraded thre:-14, ratio: 4, attack:11.1,release:250.10000000000002 bring the HAAQI score to 0.9027331951766844\n"
     ]
    },
    {
     "data": {
      "text/plain": [
       "0.09726680482331562"
      ]
     },
     "execution_count": 14,
     "metadata": {},
     "output_type": "execute_result"
    }
   ],
   "source": [
    "haaqi_reward_fn(np.array([1, 0, 1, -50]))"
   ]
  },
  {
   "cell_type": "markdown",
   "id": "9479d3e9-01f9-4cc4-bb71-ec17d0cfb651",
   "metadata": {},
   "source": [
    "### Import Discrete RL module"
   ]
  },
  {
   "cell_type": "code",
   "execution_count": null,
   "id": "2a841a29-0045-4ff6-a59f-0aa08ea272e2",
   "metadata": {},
   "outputs": [],
   "source": [
    "import Optimiser"
   ]
  },
  {
   "cell_type": "code",
   "execution_count": null,
   "id": "87b93225-1b54-42e5-ad94-0f33707d18e0",
   "metadata": {},
   "outputs": [],
   "source": [
    "import Optimiser.discrete_RL_train\n",
    "from Optimiser.discrete_RL_train import discrete_RL_train as RLTrain"
   ]
  },
  {
   "cell_type": "code",
   "execution_count": null,
   "id": "b75bdcf0-7888-4c2d-b2aa-ea0aad3ac02f",
   "metadata": {
    "scrolled": true
   },
   "outputs": [],
   "source": [
    "trainner = RLTrain()\n",
    "trainner.set_environments(haaqi_reward_fn)\n",
    "trainner.train()"
   ]
  },
  {
   "cell_type": "code",
   "execution_count": 26,
   "id": "39dc7545-65b7-4895-a94f-9ee28ebd14b1",
   "metadata": {},
   "outputs": [
    {
     "name": "stdout",
     "output_type": "stream",
     "text": [
      "After LUFS, the mixing ouput in the RMS, Total: -9.24dB, Clipping Ratio&Cliped Num: (0.0011848958333333334, 455)\n",
      "Current degraded thre:-18.9, ratio: 3.5, attack:5.699999999999999,release:247.38000000000002 bring the HAAQI score to 0.8496384255903743\n"
     ]
    },
    {
     "data": {
      "text/plain": [
       "0.15036157440962572"
      ]
     },
     "execution_count": 26,
     "metadata": {},
     "output_type": "execute_result"
    }
   ],
   "source": [
    "haaqi_reward_fn(np.array([ -3.9 ,  -0.5 ,  -4.4 , -52.72]))"
   ]
  },
  {
   "cell_type": "code",
   "execution_count": 28,
   "id": "eb6cd6be-9a29-4fed-898d-9d546fba6a3a",
   "metadata": {},
   "outputs": [],
   "source": [
    "Noise_Generator_MP3.EraseTheMp3Mixing()"
   ]
  },
  {
   "cell_type": "code",
   "execution_count": 29,
   "id": "1cb2186a-6ab2-4959-9e2d-49fae3373aa0",
   "metadata": {},
   "outputs": [
    {
     "name": "stdout",
     "output_type": "stream",
     "text": [
      "After LUFS, the mixing ouput in the RMS, Total: -9.47dB, Clipping Ratio&Cliped Num: (0.00075, 288)\n",
      "Current degraded thre:-27.4, ratio: 6.7, attack:3.3,release:244.10000000000002 bring the HAAQI score to 0.813212518280853\n"
     ]
    },
    {
     "data": {
      "text/plain": [
       "0.18678748171914705"
      ]
     },
     "execution_count": 29,
     "metadata": {},
     "output_type": "execute_result"
    }
   ],
   "source": [
    "haaqi_reward_fn(np.array([-12.4, 2.7, -6.8, -56]))"
   ]
  },
  {
   "cell_type": "markdown",
   "id": "3dc3f180-42ea-4377-81e7-293e8d053e2e",
   "metadata": {},
   "source": [
    "### Import Continous RL"
   ]
  },
  {
   "cell_type": "code",
   "execution_count": 30,
   "id": "8b55d64d-deb0-42a6-bd17-1ac6cf3eda26",
   "metadata": {},
   "outputs": [],
   "source": [
    "import Optimiser"
   ]
  },
  {
   "cell_type": "code",
   "execution_count": 31,
   "id": "cc061f54-6ccb-44de-afd5-f5d7b7d57fd2",
   "metadata": {},
   "outputs": [
    {
     "name": "stderr",
     "output_type": "stream",
     "text": [
      "2025-07-11 17:07:58.527106: I tensorflow/core/util/port.cc:113] oneDNN custom operations are on. You may see slightly different numerical results due to floating-point round-off errors from different computation orders. To turn them off, set the environment variable `TF_ENABLE_ONEDNN_OPTS=0`.\n",
      "2025-07-11 17:07:58.595938: E external/local_xla/xla/stream_executor/cuda/cuda_dnn.cc:9261] Unable to register cuDNN factory: Attempting to register factory for plugin cuDNN when one has already been registered\n",
      "2025-07-11 17:07:58.595964: E external/local_xla/xla/stream_executor/cuda/cuda_fft.cc:607] Unable to register cuFFT factory: Attempting to register factory for plugin cuFFT when one has already been registered\n",
      "2025-07-11 17:07:58.597235: E external/local_xla/xla/stream_executor/cuda/cuda_blas.cc:1515] Unable to register cuBLAS factory: Attempting to register factory for plugin cuBLAS when one has already been registered\n",
      "2025-07-11 17:07:58.607414: I tensorflow/core/platform/cpu_feature_guard.cc:182] This TensorFlow binary is optimized to use available CPU instructions in performance-critical operations.\n",
      "To enable the following instructions: AVX2 AVX_VNNI FMA, in other operations, rebuild TensorFlow with the appropriate compiler flags.\n",
      "2025-07-11 17:07:59.407816: W tensorflow/compiler/tf2tensorrt/utils/py_utils.cc:38] TF-TRT Warning: Could not find TensorRT\n",
      "2025-07-11 17:08:00.278509: E external/local_xla/xla/stream_executor/cuda/cuda_driver.cc:274] failed call to cuInit: CUDA_ERROR_NO_DEVICE: no CUDA-capable device is detected\n"
     ]
    }
   ],
   "source": [
    "import Optimiser.continous_RL_train\n",
    "from Optimiser.continous_RL_train import continous_RL_train as CRLTrain"
   ]
  },
  {
   "cell_type": "code",
   "execution_count": null,
   "id": "f823ae2d-88a2-435c-b874-50d94c8012ab",
   "metadata": {},
   "outputs": [
    {
     "name": "stdout",
     "output_type": "stream",
     "text": [
      "After LUFS, the mixing ouput in the RMS, Total: -9.11dB, Clipping Ratio&Cliped Num: (0.0019401041666666666, 745)\n",
      "Current degraded thre:-12.613500595092773, ratio: 4.485066801309586, attack:10.939274048805236,release:249.32033691406252 bring the HAAQI score to 0.926677576247475\n",
      "After LUFS, the mixing ouput in the RMS, Total: -9.11dB, Clipping Ratio&Cliped Num: (0.00196875, 756)\n",
      "Current degraded thre:-11.659292221069336, ratio: 4.749298393726349, attack:10.671702301502227,release:249.6432929992676 bring the HAAQI score to 0.9450554756101999\n",
      "After LUFS, the mixing ouput in the RMS, Total: -9.12dB, Clipping Ratio&Cliped Num: (0.0019010416666666668, 730)\n",
      "Current degraded thre:-13.499142050743103, ratio: 4.718492865562439, attack:10.099718070030212,release:250.71190032958987 bring the HAAQI score to 0.908530365969612\n",
      "After LUFS, the mixing ouput in the RMS, Total: -9.11dB, Clipping Ratio&Cliped Num: (0.001966145833333333, 755)\n",
      "Current degraded thre:-11.927690505981445, ratio: 4.041659712791443, attack:10.620889520645141,release:250.47777328491213 bring the HAAQI score to 0.9386045161174047\n",
      "After LUFS, the mixing ouput in the RMS, Total: -9.11dB, Clipping Ratio&Cliped Num: (0.002002604166666667, 769)\n",
      "Current degraded thre:-10.439907550811768, ratio: 6.50303840637207, attack:9.747998213768005,release:250.38779602050784 bring the HAAQI score to 0.9687672754729092\n",
      "After LUFS, the mixing ouput in the RMS, Total: -9.11dB, Clipping Ratio&Cliped Num: (0.001966145833333333, 755)\n",
      "Current degraded thre:-11.645302295684814, ratio: 5.939072608947754, attack:9.77451211810112,release:252.54079208374026 bring the HAAQI score to 0.9439867325043311\n",
      "After LUFS, the mixing ouput in the RMS, Total: -9.11dB, Clipping Ratio&Cliped Num: (0.002002604166666667, 769)\n",
      "Current degraded thre:-9.523422241210938, ratio: 6.9120049476623535, attack:10.041766679286956,release:253.0376029968262 bring the HAAQI score to 0.9820486435377116\n",
      "After LUFS, the mixing ouput in the RMS, Total: -9.11dB, Clipping Ratio&Cliped Num: (0.002002604166666667, 769)\n",
      "Current degraded thre:-10.137025356292725, ratio: 7.430633544921875, attack:10.300804531574249,release:252.71499786376955 bring the HAAQI score to 0.9680896783936086\n",
      "After LUFS, the mixing ouput in the RMS, Total: -9.11dB, Clipping Ratio&Cliped Num: (0.002002604166666667, 769)\n",
      "Current degraded thre:-9.384397506713867, ratio: 8.277729034423828, attack:10.242292633652687,release:252.25394973754885 bring the HAAQI score to 0.9947372528981913\n",
      "After LUFS, the mixing ouput in the RMS, Total: -9.15dB, Clipping Ratio&Cliped Num: (0.0017630208333333332, 677)\n",
      "Current degraded thre:-16.158033847808838, ratio: 4.4885386526584625, attack:11.206180906295776,release:249.7410369873047 bring the HAAQI score to 0.8823138658393842\n",
      "After LUFS, the mixing ouput in the RMS, Total: -9.18dB, Clipping Ratio&Cliped Num: (0.0016041666666666667, 616)\n",
      "Current degraded thre:-17.69470739364624, ratio: 4.1629911959171295, attack:10.245724177360534,release:251.43535385131838 bring the HAAQI score to 0.8648256382467234\n",
      "After LUFS, the mixing ouput in the RMS, Total: -9.14dB, Clipping Ratio&Cliped Num: (0.001859375, 714)\n",
      "Current degraded thre:-17.91482448577881, ratio: 1.3268623352050781, attack:10.388719564676284,release:252.41616973876955 bring the HAAQI score to 0.8958939691330359\n",
      "After LUFS, the mixing ouput in the RMS, Total: -9.12dB, Clipping Ratio&Cliped Num: (0.00190625, 732)\n",
      "Current degraded thre:-17.324318408966064, ratio: 1.1911983489990234, attack:10.152057057619094,release:253.20010528564455 bring the HAAQI score to 0.9092296812280201\n",
      "After LUFS, the mixing ouput in the RMS, Total: -9.15dB, Clipping Ratio&Cliped Num: (0.0017604166666666666, 676)\n",
      "Current degraded thre:-17.303638696670532, ratio: 2.1524014472961426, attack:10.845682001113891,release:253.33089981079104 bring the HAAQI score to 0.8788273809746469\n",
      "After LUFS, the mixing ouput in the RMS, Total: -9.17dB, Clipping Ratio&Cliped Num: (0.0016197916666666667, 622)\n",
      "Current degraded thre:-18.531957626342773, ratio: 2.0200369358062744, attack:9.164448833465576,release:254.42952117919924 bring the HAAQI score to 0.8660731286343559\n",
      "After LUFS, the mixing ouput in the RMS, Total: -9.11dB, Clipping Ratio&Cliped Num: (0.0020286458333333333, 779)\n",
      "Current degraded thre:-18.895916223526, ratio: 0.8451704978942871, attack:8.961807107925415,release:254.49007568359377 bring the HAAQI score to 0.9684187029548006\n",
      "After LUFS, the mixing ouput in the RMS, Total: -9.18dB, Clipping Ratio&Cliped Num: (0.0016067708333333333, 617)\n",
      "Current degraded thre:-20.401682376861572, ratio: 1.5115172863006592, attack:8.369941329956054,release:254.69286880493166 bring the HAAQI score to 0.8666230365722536\n",
      "After LUFS, the mixing ouput in the RMS, Total: -9.22dB, Clipping Ratio&Cliped Num: (0.0015104166666666666, 580)\n",
      "Current degraded thre:-20.35071039199829, ratio: 2.5856481790542603, attack:9.389941787719726,release:255.43126449584963 bring the HAAQI score to 0.8489675082790966\n",
      "After LUFS, the mixing ouput in the RMS, Total: -9.12dB, Clipping Ratio&Cliped Num: (0.0019166666666666666, 736)\n",
      "Current degraded thre:-13.450075387954712, ratio: 4.54462069272995, attack:12.260743236541748,release:249.95393142700198 bring the HAAQI score to 0.9161985012576781\n",
      "After LUFS, the mixing ouput in the RMS, Total: -9.12dB, Clipping Ratio&Cliped Num: (0.0019114583333333334, 734)\n",
      "Current degraded thre:-13.577837944030762, ratio: 4.135833740234375, attack:12.01317093372345,release:251.83430252075198 bring the HAAQI score to 0.9128240125384313\n",
      "After LUFS, the mixing ouput in the RMS, Total: -9.11dB, Clipping Ratio&Cliped Num: (0.0019270833333333334, 740)\n"
     ]
    }
   ],
   "source": [
    "trainner = CRLTrain()\n",
    "trainner.set_environments(haaqi_reward_fn)\n",
    "trainner.train()"
   ]
  },
  {
   "cell_type": "markdown",
   "id": "3e10092f-80eb-4058-9065-64b357bd7981",
   "metadata": {},
   "source": [
    "### Import GA module"
   ]
  },
  {
   "cell_type": "code",
   "execution_count": 21,
   "id": "c66cd119-2e83-4518-9597-12b468ca3cfd",
   "metadata": {},
   "outputs": [],
   "source": [
    "import Optimiser.genetic_evo\n",
    "from Optimiser.genetic_evo import GeneticOptimiser"
   ]
  },
  {
   "cell_type": "code",
   "execution_count": 22,
   "id": "b9a56e0b-c9e9-42b2-8df4-038c01951061",
   "metadata": {},
   "outputs": [],
   "source": [
    "GA_Opt = GeneticOptimiser()"
   ]
  },
  {
   "cell_type": "code",
   "execution_count": 23,
   "id": "9a8dd5f9-89dc-46af-bc46-464612ecc91e",
   "metadata": {},
   "outputs": [],
   "source": [
    "GA_Opt.ga_init_env()"
   ]
  },
  {
   "cell_type": "code",
   "execution_count": 24,
   "id": "07fc88ab-f1c5-41d2-89af-c6caf515df40",
   "metadata": {},
   "outputs": [],
   "source": [
    "GA_Opt.set_fitnessfun(haaqi_reward_fn)"
   ]
  },
  {
   "cell_type": "code",
   "execution_count": 25,
   "id": "77bf137c-68a4-45ca-bab8-f67e8f494a2b",
   "metadata": {
    "scrolled": true
   },
   "outputs": [
    {
     "name": "stdout",
     "output_type": "stream",
     "text": [
      "sol_per_pop: 6, num_genes: 4, num_generations: 5, preset_population: [[1.0, 0.0, 1.0, -50.0]]\n",
      "After LUFS, the mixing ouput in the RMS, Total: -9.26dB, Clipping Ratio&Cliped Num: (0.0016640625, 639)\n"
     ]
    },
    {
     "name": "stderr",
     "output_type": "stream",
     "text": [
      "/root/anaconda3/envs/codecbreak/lib/python3.10/site-packages/pygad/pygad.py:753: UserWarning: The percentage of genes to mutate (mutation_percent_genes=0.2) resulted in selecting (0) genes. The number of genes to mutate is set to 1 (mutation_num_genes=1).\n",
      "If you do not want to mutate any gene, please set mutation_type=None.\n",
      "  warnings.warn(f\"The percentage of genes to mutate (mutation_percent_genes={mutation_percent_genes}) resulted in selecting ({mutation_num_genes}) genes. The number of genes to mutate is set to 1 (mutation_num_genes=1).\\nIf you do not want to mutate any gene, please set mutation_type=None.\")\n",
      "/root/anaconda3/envs/codecbreak/lib/python3.10/site-packages/pygad/pygad.py:1149: UserWarning: Use the 'save_best_solutions' parameter with caution as it may cause memory overflow when either the number of generations or number of genes is large.\n",
      "  warnings.warn(\"Use the 'save_best_solutions' parameter with caution as it may cause memory overflow when either the number of generations or number of genes is large.\")\n",
      "/root/anaconda3/envs/codecbreak/lib/python3.10/site-packages/pygad/pygad.py:1158: UserWarning: Use the 'save_solutions' parameter with caution as it may cause memory overflow when either the number of generations, number of genes, or number of solutions in population is large.\n",
      "  warnings.warn(\"Use the 'save_solutions' parameter with caution as it may cause memory overflow when either the number of generations, number of genes, or number of solutions in population is large.\")\n"
     ]
    },
    {
     "name": "stdout",
     "output_type": "stream",
     "text": [
      "Current degraded thre:-24.3, ratio: 2.9, attack:18.799999999999997,release:147.10000000000002 bring the HAAQI score to 0.8592554057857791\n",
      "After LUFS, the mixing ouput in the RMS, Total: -9.36dB, Clipping Ratio&Cliped Num: (0.0006328125, 243)\n",
      "Current degraded thre:-27.4, ratio: 2.3, attack:3.3,release:244.10000000000002 bring the HAAQI score to 0.839448691587177\n",
      "After LUFS, the mixing ouput in the RMS, Total: -9.11dB, Clipping Ratio&Cliped Num: (0.002002604166666667, 769)\n",
      "Current degraded thre:-8.6, ratio: 7.9, attack:2.3999999999999995,release:116.10000000000002 bring the HAAQI score to 0.9985486851353156\n",
      "After LUFS, the mixing ouput in the RMS, Total: -9.11dB, Clipping Ratio&Cliped Num: (0.002002604166666667, 769)\n",
      "Current degraded thre:-8.5, ratio: 3.7, attack:6.5,release:521.1 bring the HAAQI score to 0.9985486851125562\n",
      "After LUFS, the mixing ouput in the RMS, Total: -9.17dB, Clipping Ratio&Cliped Num: (0.00103125, 396)\n",
      "Current degraded thre:-17.8, ratio: 2.6, attack:6.5,release:6.100000000000023 bring the HAAQI score to 0.8785509903772301\n",
      "After LUFS, the mixing ouput in the RMS, Total: -9.18dB, Clipping Ratio&Cliped Num: (0.0026380208333333334, 1013)\n",
      "Current degraded thre:-26.0, ratio: 3.2, attack:19.2,release:388.1 bring the HAAQI score to 0.8537464649436939\n",
      "After LUFS, the mixing ouput in the RMS, Total: -9.18dB, Clipping Ratio&Cliped Num: (0.0014609375, 561)\n",
      "Current degraded thre:-27.4, ratio: 1.2000000000000002, attack:3.3,release:388.1 bring the HAAQI score to 0.8702877726976661\n",
      "After LUFS, the mixing ouput in the RMS, Total: -9.33dB, Clipping Ratio&Cliped Num: (0.0013567708333333333, 521)\n",
      "Current degraded thre:-26.0, ratio: 3.2, attack:8.4,release:244.10000000000002 bring the HAAQI score to 0.8393390180639249\n",
      "After LUFS, the mixing ouput in the RMS, Total: -9.24dB, Clipping Ratio&Cliped Num: (0.002380208333333333, 914)\n",
      "Current degraded thre:-27.4, ratio: 3.2, attack:11.299999999999999,release:388.1 bring the HAAQI score to 0.846371905943215\n",
      "After LUFS, the mixing ouput in the RMS, Total: -9.24dB, Clipping Ratio&Cliped Num: (0.0025338541666666665, 973)\n",
      "Current degraded thre:-27.4, ratio: 4.5, attack:19.2,release:244.10000000000002 bring the HAAQI score to 0.8397439486227002\n",
      "After LUFS, the mixing ouput in the RMS, Total: -9.36dB, Clipping Ratio&Cliped Num: (0.000765625, 294)\n",
      "Current degraded thre:-22.7, ratio: 3.2, attack:3.3,release:244.10000000000002 bring the HAAQI score to 0.8406569511332672\n",
      "Generation :  1\n",
      "The last best Solution :  {(-11.0, -0.8, -1.7, -56)}\n",
      "Fitness of the last best solution : {0.839448691587177}\n",
      "After LUFS, the mixing ouput in the RMS, Total: -9.11dB, Clipping Ratio&Cliped Num: (0.002002604166666667, 769)\n",
      "Current degraded thre:-9.7, ratio: 2.3, attack:3.3,release:244.10000000000002 bring the HAAQI score to 0.9767437717561627\n",
      "After LUFS, the mixing ouput in the RMS, Total: -9.3dB, Clipping Ratio&Cliped Num: (0.0019296875, 741)\n",
      "Current degraded thre:-27.4, ratio: 3.2, attack:11.6,release:244.10000000000002 bring the HAAQI score to 0.8428418916606566\n",
      "After LUFS, the mixing ouput in the RMS, Total: -9.38dB, Clipping Ratio&Cliped Num: (0.0005234375, 201)\n",
      "Current degraded thre:-27.4, ratio: 2.3, attack:3.3,release:203.10000000000002 bring the HAAQI score to 0.8378333361373269\n",
      "After LUFS, the mixing ouput in the RMS, Total: -9.33dB, Clipping Ratio&Cliped Num: (0.0015, 576)\n",
      "Current degraded thre:-27.4, ratio: 3.2, attack:8.9,release:244.10000000000002 bring the HAAQI score to 0.8413129177945603\n",
      "After LUFS, the mixing ouput in the RMS, Total: -9.47dB, Clipping Ratio&Cliped Num: (0.0007890625, 303)\n",
      "Current degraded thre:-26.0, ratio: 7.8, attack:3.3,release:244.10000000000002 bring the HAAQI score to 0.8170798024885706\n",
      "Generation :  2\n",
      "The last best Solution :  {(-11.0, 3.8, -6.8, -56)}\n",
      "Fitness of the last best solution : {0.8393390180639249}\n",
      "After LUFS, the mixing ouput in the RMS, Total: -9.45dB, Clipping Ratio&Cliped Num: (0.0007421875, 285)\n",
      "Current degraded thre:-27.4, ratio: 4.7, attack:3.3,release:244.10000000000002 bring the HAAQI score to 0.8161741169458561\n",
      "After LUFS, the mixing ouput in the RMS, Total: -9.27dB, Clipping Ratio&Cliped Num: (0.0024375, 936)\n",
      "Current degraded thre:-26.0, ratio: 7.8, attack:17.9,release:244.10000000000002 bring the HAAQI score to 0.8393406143648076\n",
      "After LUFS, the mixing ouput in the RMS, Total: -9.28dB, Clipping Ratio&Cliped Num: (0.0008020833333333334, 308)\n",
      "Current degraded thre:-27.4, ratio: 1.6, attack:3.3,release:244.10000000000002 bring the HAAQI score to 0.8475364603177792\n",
      "After LUFS, the mixing ouput in the RMS, Total: -9.47dB, Clipping Ratio&Cliped Num: (0.00075, 288)\n",
      "Current degraded thre:-27.4, ratio: 6.7, attack:3.3,release:244.10000000000002 bring the HAAQI score to 0.8132125189535775\n",
      "After LUFS, the mixing ouput in the RMS, Total: -9.21dB, Clipping Ratio&Cliped Num: (0.001109375, 426)\n",
      "Current degraded thre:-17.2, ratio: 2.3, attack:3.3,release:203.10000000000002 bring the HAAQI score to 0.8647145758409112\n",
      "Generation :  3\n",
      "The last best Solution :  {(-12.4, 2.7, -6.8, -56)}\n",
      "Fitness of the last best solution : {0.8170798024885706}\n",
      "After LUFS, the mixing ouput in the RMS, Total: -9.15dB, Clipping Ratio&Cliped Num: (0.001625, 624)\n",
      "Current degraded thre:-27.4, ratio: 1.1, attack:3.3,release:244.10000000000002 bring the HAAQI score to 0.8794043979545776\n",
      "After LUFS, the mixing ouput in the RMS, Total: -9.46dB, Clipping Ratio&Cliped Num: (0.0007473958333333333, 287)\n",
      "Current degraded thre:-27.4, ratio: 5.8, attack:3.3,release:244.10000000000002 bring the HAAQI score to 0.8138234749375874\n",
      "After LUFS, the mixing ouput in the RMS, Total: -9.45dB, Clipping Ratio&Cliped Num: (0.0007447916666666667, 286)\n",
      "Current degraded thre:-27.4, ratio: 4.9, attack:3.3,release:244.10000000000002 bring the HAAQI score to 0.8178964452244768\n",
      "After LUFS, the mixing ouput in the RMS, Total: -9.39dB, Clipping Ratio&Cliped Num: (0.0006458333333333333, 248)\n",
      "Current degraded thre:-27.4, ratio: 2.7, attack:3.3,release:244.10000000000002 bring the HAAQI score to 0.8342985323121876\n",
      "After LUFS, the mixing ouput in the RMS, Total: -9.45dB, Clipping Ratio&Cliped Num: (0.0007447916666666667, 286)\n",
      "Current degraded thre:-27.4, ratio: 4.9, attack:3.3,release:244.10000000000002 bring the HAAQI score to 0.8178964442886099\n",
      "Generation :  4\n",
      "The last best Solution :  {(-12.4, 2.7, -6.8, -56)}\n",
      "Fitness of the last best solution : {0.8132125189535775}\n",
      "After LUFS, the mixing ouput in the RMS, Total: -9.43dB, Clipping Ratio&Cliped Num: (0.0006875, 264)\n",
      "Current degraded thre:-27.4, ratio: 3.8, attack:3.3,release:244.10000000000002 bring the HAAQI score to 0.8148536714252831\n",
      "After LUFS, the mixing ouput in the RMS, Total: -9.46dB, Clipping Ratio&Cliped Num: (0.0007447916666666667, 286)\n",
      "Current degraded thre:-27.4, ratio: 5.6, attack:3.3,release:244.10000000000002 bring the HAAQI score to 0.8170869473374756\n",
      "After LUFS, the mixing ouput in the RMS, Total: -9.12dB, Clipping Ratio&Cliped Num: (0.0018958333333333334, 728)\n",
      "Current degraded thre:-12.5, ratio: 5.8, attack:3.3,release:244.10000000000002 bring the HAAQI score to 0.9067100668604345\n",
      "After LUFS, the mixing ouput in the RMS, Total: -9.34dB, Clipping Ratio&Cliped Num: (0.0007005208333333334, 269)\n",
      "Current degraded thre:-27.4, ratio: 2.0, attack:3.3,release:244.10000000000002 bring the HAAQI score to 0.8365284991130577\n",
      "After LUFS, the mixing ouput in the RMS, Total: -9.34dB, Clipping Ratio&Cliped Num: (0.0019427083333333334, 746)\n",
      "Current degraded thre:-27.4, ratio: 5.8, attack:10.9,release:244.10000000000002 bring the HAAQI score to 0.8272212041976101\n",
      "Generation :  5\n",
      "The last best Solution :  {(-12.4, 2.7, -6.8, -56)}\n",
      "Fitness of the last best solution : {0.8132125189535775}\n"
     ]
    }
   ],
   "source": [
    "GA_Opt.run(num_generations = 5,sol_per_pop = 6)"
   ]
  },
  {
   "cell_type": "code",
   "execution_count": 27,
   "id": "1e6df589-3a07-48fe-b3d9-c11ed86c956b",
   "metadata": {},
   "outputs": [
    {
     "name": "stdout",
     "output_type": "stream",
     "text": [
      "After LUFS, the mixing ouput in the RMS, Total: -9.47dB, Clipping Ratio&Cliped Num: (0.00075, 288)\n",
      "Current degraded thre:-27.4, ratio: 6.7, attack:3.3,release:244.10000000000002 bring the HAAQI score to 0.813212517707022\n"
     ]
    },
    {
     "data": {
      "text/plain": [
       "0.18678748229297804"
      ]
     },
     "execution_count": 27,
     "metadata": {},
     "output_type": "execute_result"
    }
   ],
   "source": [
    "haaqi_reward_fn(np.array([-12.4, 2.7, -6.8, -56]))"
   ]
  },
  {
   "cell_type": "code",
   "execution_count": null,
   "id": "61ecfabd-a5e4-4c88-a24a-076a3f77dad9",
   "metadata": {},
   "outputs": [],
   "source": [
    "haaqi_reward_fn(np.array([-14.9, -3.8, 6.1, -294]))"
   ]
  },
  {
   "cell_type": "code",
   "execution_count": 5,
   "id": "ab060a75-c096-4845-a7d7-dff8b0a95eb1",
   "metadata": {},
   "outputs": [
    {
     "data": {
      "text/plain": [
       "[{'low': -15.0, 'high': 15.0, 'step': 0.1},\n",
       " {'low': -4.0, 'high': 4.0, 'step': 0.1},\n",
       " {'low': -10.0, 'high': 10.0, 'step': 0.1},\n",
       " {'low': -300.0, 'high': 300.0, 'step': 1}]"
      ]
     },
     "execution_count": 5,
     "metadata": {},
     "output_type": "execute_result"
    }
   ],
   "source": [
    "GA_Opt._gene_space"
   ]
  },
  {
   "cell_type": "code",
   "execution_count": null,
   "id": "ccefccc3-37b9-4f74-9a31-124eac8e5747",
   "metadata": {},
   "outputs": [],
   "source": []
  }
 ],
 "metadata": {
  "kernelspec": {
   "display_name": "Python 3 (ipykernel)",
   "language": "python",
   "name": "python3"
  },
  "language_info": {
   "codemirror_mode": {
    "name": "ipython",
    "version": 3
   },
   "file_extension": ".py",
   "mimetype": "text/x-python",
   "name": "python",
   "nbconvert_exporter": "python",
   "pygments_lexer": "ipython3",
   "version": "3.10.18"
  }
 },
 "nbformat": 4,
 "nbformat_minor": 5
}
