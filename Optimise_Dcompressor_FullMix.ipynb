{
 "cells": [
  {
   "cell_type": "code",
   "execution_count": 1,
   "id": "d30a38d1-d0b1-43be-a0a8-c34e74b12719",
   "metadata": {},
   "outputs": [],
   "source": [
    "import pygad\n",
    "import numpy as np\n",
    "import pandas as pd\n",
    "from CODECbreakCode.AudioMixer import FullTrackAudioMixer\n",
    "import CODECbreakCode.Evaluator as Evaluator\n",
    "from CODECbreakCode.Evaluator import MeasureHAAQIOutput\n",
    "import argparse\n",
    "from Optimiser.config import get_config, normalize_action, denormalize_action"
   ]
  },
  {
   "cell_type": "code",
   "execution_count": 2,
   "id": "41790404-f79c-4c82-8717-e54fdf3e09f4",
   "metadata": {},
   "outputs": [],
   "source": [
    "import warnings\n",
    "warnings.filterwarnings(\"ignore\", \"Possible clipped samples in output.\")\n",
    "warnings.filterwarnings(\"ignore\",message=\"Warning: input samples dtype is np.float64. Converting to np.float32\")"
   ]
  },
  {
   "cell_type": "code",
   "execution_count": 3,
   "id": "679ced6e-b6a9-4bfa-bd5c-b5e3f9313e42",
   "metadata": {},
   "outputs": [
    {
     "name": "stdout",
     "output_type": "stream",
     "text": [
      "Vocal duration orginal is 17.462666666666667 seconds, now is the 8.0, the audio changing to the MONO\n",
      "Drum duration orginal is 17.462666666666667 seconds, now is the 8.0, the audio changing to the MONO\n",
      "Bass duration orginal is 17.462666666666667 seconds, now is the 8.0, the audio changing to the MONO\n",
      "Other duration orginal is 17.462666666666667 seconds, now is the 8.0,  the audio changing to the MONO\n",
      "Mixing File Load Sucessful\n",
      "Referece_File:/home/codecrack/CodecBreakerwithRL/AudioEX/Reggae/Mixing_Result/Reference_IN_O.wav\n",
      "Referece_MP3File:/home/codecrack/CodecBreakerwithRL/AudioEX/Reggae/Mixing_Result_Mp3_Wav/Reference_IN_O_64kbps.wav\n"
     ]
    }
   ],
   "source": [
    "Reggae_Mixing_Path = '/home/codecrack/CodecBreakerwithRL/AudioEX/Reggae'\n",
    "Reggae_Noise_Generator_MP3 = FullTrackAudioMixer(Reggae_Mixing_Path)\n",
    "#Noise_Generator_MP3.ManipulateInitGAIN([0, 0, 0, 0])\n",
    "Reggae_Referece_File = Reggae_Noise_Generator_MP3.TestDynCompTrack([0,0,0,0,0,0,0,0,0,0,0,0,0,0,0,0],\"Reference_IN_O.wav\",isNormalised=False,isCompensated=True)\n",
    "print(f\"Referece_File:{Reggae_Referece_File}\")\n",
    "\n",
    "Reggae_Referece_MP3File = Evaluator.Mp3LameLossyCompress(Reggae_Referece_File,64)\n",
    "print(f\"Referece_MP3File:{Reggae_Referece_MP3File}\")"
   ]
  },
  {
   "cell_type": "code",
   "execution_count": 4,
   "id": "2ab23c76-3f76-45d6-90e5-95af2b6d2259",
   "metadata": {},
   "outputs": [
    {
     "data": {
      "text/plain": [
       "0.9952523969475549"
      ]
     },
     "execution_count": 4,
     "metadata": {},
     "output_type": "execute_result"
    }
   ],
   "source": [
    "Reggae_MeasureHAAQI = MeasureHAAQIOutput(Reggae_Referece_MP3File)#Initilize the HAAQI with a permanent reference\n",
    "Reggae_MeasureHAAQI.MeasureHAQQIOutput(Reggae_Referece_MP3File) #Test on how far from itself to itsel"
   ]
  },
  {
   "cell_type": "code",
   "execution_count": 5,
   "id": "88fd0f5e-7748-496c-ab67-970f9fcec229",
   "metadata": {},
   "outputs": [],
   "source": [
    "import tempfile\n",
    "import os\n",
    "BASE_DIR = \"/home/codecrack/CodecBreakerwithRL/AudioEX/Reggae/Mixing_Result\"\n",
    "TMP_SUBDIR = os.path.join(BASE_DIR, \"tmp\")\n",
    "\n",
    "# make sure it exists once at startup:\n",
    "os.makedirs(TMP_SUBDIR, exist_ok=True)\n",
    "def haaqi_reward_muti_fn(solution: np.ndarray, is_normalised=True) -> float:\n",
    "    if is_normalised:\n",
    "        solution = denormalize_action(solution)\n",
    "#    print(f'solution:{solution}')\n",
    " \n",
    "    # Create a unique temp‐file name\n",
    "    fd, degradated_filename = tempfile.mkstemp(prefix=\"dynC_\", suffix=\".wav\")\n",
    "    os.close(fd)  # we’ll let your compressor write to that path\n",
    "\n",
    "    try:\n",
    "        gener_Audio = Reggae_Noise_Generator_MP3.TestDynCompTrack(solution,degradated_filename,isNormalised=False,isCompensated=True)\n",
    "        gener_Audio_mp3 = Evaluator.Mp3LameLossyCompress(gener_Audio, 64)\n",
    "        score = Reggae_MeasureHAAQI.MeasureHAQQIOutput(gener_Audio_mp3)\n",
    "    finally:\n",
    "        # clean up\n",
    "        try:\n",
    "            os.remove(degradated_filename)\n",
    "        except OSError:\n",
    "            pass\n",
    "\n",
    "    return round(1 - score, 4)"
   ]
  },
  {
   "cell_type": "code",
   "execution_count": 6,
   "id": "d726f73e-c9c9-4840-9132-5d0f5709c25c",
   "metadata": {},
   "outputs": [
    {
     "name": "stderr",
     "output_type": "stream",
     "text": [
      "2025-07-23 17:28:40.511923: I tensorflow/core/util/port.cc:113] oneDNN custom operations are on. You may see slightly different numerical results due to floating-point round-off errors from different computation orders. To turn them off, set the environment variable `TF_ENABLE_ONEDNN_OPTS=0`.\n",
      "2025-07-23 17:28:40.535718: E external/local_xla/xla/stream_executor/cuda/cuda_dnn.cc:9261] Unable to register cuDNN factory: Attempting to register factory for plugin cuDNN when one has already been registered\n",
      "2025-07-23 17:28:40.535740: E external/local_xla/xla/stream_executor/cuda/cuda_fft.cc:607] Unable to register cuFFT factory: Attempting to register factory for plugin cuFFT when one has already been registered\n",
      "2025-07-23 17:28:40.536822: E external/local_xla/xla/stream_executor/cuda/cuda_blas.cc:1515] Unable to register cuBLAS factory: Attempting to register factory for plugin cuBLAS when one has already been registered\n",
      "2025-07-23 17:28:40.542440: I tensorflow/core/platform/cpu_feature_guard.cc:182] This TensorFlow binary is optimized to use available CPU instructions in performance-critical operations.\n",
      "To enable the following instructions: AVX2 AVX_VNNI FMA, in other operations, rebuild TensorFlow with the appropriate compiler flags.\n",
      "2025-07-23 17:28:41.029239: W tensorflow/compiler/tf2tensorrt/utils/py_utils.cc:38] TF-TRT Warning: Could not find TensorRT\n",
      "2025-07-23 17:28:41.897973: E external/local_xla/xla/stream_executor/cuda/cuda_driver.cc:274] failed call to cuInit: CUDA_ERROR_NO_DEVICE: no CUDA-capable device is detected\n"
     ]
    }
   ],
   "source": [
    "import Optimiser.continous_RL_train_PPO\n",
    "from Optimiser.continous_RL_train_PPO import continous_RL_train_PPO as CRLTrain"
   ]
  },
  {
   "cell_type": "code",
   "execution_count": 7,
   "id": "973ce022-748f-4466-beae-78eb9d7c3454",
   "metadata": {},
   "outputs": [
    {
     "name": "stdout",
     "output_type": "stream",
     "text": [
      "number of sub_episodes used for a single param update: 6\n",
      "train_env.batch_size = parallel environment number =  2\n"
     ]
    },
    {
     "name": "stderr",
     "output_type": "stream",
     "text": [
      "WARNING:absl:Only tf.keras.optimizers.Optimiers are well supported, got a non-TF2 optimizer: <keras.src.optimizers.legacy.gradient_descent.SGD object at 0x7f5a2f65be50>\n"
     ]
    },
    {
     "name": "stdout",
     "output_type": "stream",
     "text": [
      "update_num: 3, eval_intv: 1\n",
      "WARNING:tensorflow:From /home/codecrack/CodecBreakerwithRL/Optimiser/continous_RL_train_PPO.py:202: ReplayBuffer.gather_all (from tf_agents.replay_buffers.replay_buffer) is deprecated and will be removed in a future version.\n",
      "Instructions for updating:\n",
      "Use `as_dataset(..., single_deterministic_pass=True)` instead.\n"
     ]
    },
    {
     "name": "stderr",
     "output_type": "stream",
     "text": [
      "WARNING:tensorflow:From /home/codecrack/CodecBreakerwithRL/Optimiser/continous_RL_train_PPO.py:202: ReplayBuffer.gather_all (from tf_agents.replay_buffers.replay_buffer) is deprecated and will be removed in a future version.\n",
      "Instructions for updating:\n",
      "Use `as_dataset(..., single_deterministic_pass=True)` instead.\n"
     ]
    },
    {
     "name": "stdout",
     "output_type": "stream",
     "text": [
      "[step   0] mean entropy per-dim = 22.1955\n",
      "final reward before udpate: -1000000000.0\n",
      "final reward after udpate: 0.1951\n",
      "updated final_solution= [  0.     2.12   1.   233.11  -9.61   3.05  20.   362.46   0.     5.97\n",
      "  20.   100.   -29.03   6.08   7.44 100.  ]\n",
      "train_step no.= 1\n",
      "best_solution of this generation= [  0.     2.12   1.   233.11  -9.61   3.05  20.   362.46   0.     5.97\n",
      "  20.   100.   -29.03   6.08   7.44 100.  ]\n",
      "best step reward= 0.1951\n",
      "avg step reward= 0.100875\n",
      "final_solution= [  0.     2.12   1.   233.11  -9.61   3.05  20.   362.46   0.     5.97\n",
      "  20.   100.   -29.03   6.08   7.44 100.  ] final_reward= 0.1951\n",
      "act_std: [-3.9000e-01  9.8800e+00  1.9750e+01  4.9482e+02 -3.9000e-01  9.8800e+00\n",
      "  1.9750e+01  4.9482e+02 -3.9000e-01  9.8800e+00  1.9750e+01  4.9482e+02\n",
      " -3.9000e-01  9.8800e+00  1.9750e+01  4.9482e+02]\n",
      "act_mean: [-15.    5.5  10.5 300.  -15.    5.5  10.5 300.  -15.    5.5  10.5 300.\n",
      " -15.    5.5  10.5 300. ]\n",
      "obs_mean: [ -0.57   4.18   6.18 314.61 -13.92   4.73  13.25 218.   -11.61   6.81\n",
      "  14.42 216.16 -13.77   5.24   9.46 229.78]\n",
      "obs_std: [  0.     7.36  20.   482.27  -1.2   10.    20.   450.94   0.     9.93\n",
      "  19.28 484.03  -4.33   8.59  18.   500.  ]\n",
      "best_step_index: [4, 2]\n",
      " \n",
      "[step   1] mean entropy per-dim = 22.4520\n",
      "final reward before udpate: 0.1951\n",
      "final reward after udpate: 0.2967\n",
      "updated final_solution= [-30.     8.84   9.75 252.82   0.     4.54   9.27 313.96 -22.45  10.\n",
      "  12.04 301.08 -30.     9.25   1.   114.72]\n",
      "train_step no.= 2\n",
      "best_solution of this generation= [-30.     8.84   9.75 252.82   0.     4.54   9.27 313.96 -22.45  10.\n",
      "  12.04 301.08 -30.     9.25   1.   114.72]\n",
      "best step reward= 0.2967\n",
      "avg step reward= 0.15345\n",
      "final_solution= [-30.     8.84   9.75 252.82   0.     4.54   9.27 313.96 -22.45  10.\n",
      "  12.04 301.08 -30.     9.25   1.   114.72] final_reward= 0.2967\n",
      "act_std: [-3.9000e-01  9.8800e+00  1.9750e+01  4.9481e+02 -3.9000e-01  9.8800e+00\n",
      "  1.9750e+01  4.9482e+02 -3.9000e-01  9.8800e+00  1.9750e+01  4.9482e+02\n",
      " -3.9000e-01  9.8800e+00  1.9750e+01  4.9482e+02]\n",
      "act_mean: [-15.     5.5   10.5  300.   -15.     5.5   10.5  300.   -15.     5.5\n",
      "  10.5  299.99 -15.     5.5   10.5  300.  ]\n",
      "obs_mean: [-21.94   6.7    9.39 271.44  -7.15   4.56   5.95 270.38 -12.88   5.68\n",
      "  15.33 286.26 -20.73   6.51  13.53 311.18]\n",
      "obs_std: [ 0.0000e+00  1.0000e+01  1.5420e+01  4.2818e+02 -2.5000e+00  8.0400e+00\n",
      "  1.9890e+01  5.0000e+02 -1.0000e-01  9.5200e+00  2.0000e+01  4.3088e+02\n",
      " -3.0800e+00  9.8200e+00  2.0000e+01  5.0000e+02]\n",
      "best_step_index: [4, 1]\n",
      " \n",
      "[step   2] mean entropy per-dim = 22.3151\n",
      "train_step no.= 3\n",
      "best_solution of this generation= [ -5.97   3.56   1.   291.87 -30.    10.     6.94 500.     0.     9.18\n",
      "   8.55 402.08 -30.     7.66   2.11 126.82]\n",
      "best step reward= 0.2858\n",
      "avg step reward= 0.13929166\n",
      "final_solution= [-30.     8.84   9.75 252.82   0.     4.54   9.27 313.96 -22.45  10.\n",
      "  12.04 301.08 -30.     9.25   1.   114.72] final_reward= 0.2967\n",
      "act_std: [-3.9000e-01  9.8800e+00  1.9750e+01  4.9481e+02 -3.9000e-01  9.8800e+00\n",
      "  1.9750e+01  4.9481e+02 -3.9000e-01  9.8800e+00  1.9750e+01  4.9481e+02\n",
      " -3.9000e-01  9.8800e+00  1.9750e+01  4.9482e+02]\n",
      "act_mean: [-15.     5.5   10.5  300.   -15.     5.5   10.5  300.   -15.     5.5\n",
      "  10.5  299.99 -15.     5.5   10.5  300.  ]\n",
      "obs_mean: [-17.81   6.62  10.42 228.19  -7.75   4.85  11.   355.42  -5.93   6.78\n",
      "   2.71 281.44 -18.54   5.67   9.14 282.58]\n",
      "obs_std: [-4.1000e+00  9.5800e+00  1.8010e+01  4.6368e+02 -1.0500e+00  9.4000e+00\n",
      "  1.7020e+01  5.0000e+02 -7.0000e-02  9.3100e+00  1.9610e+01  4.1584e+02\n",
      "  0.0000e+00  8.8000e+00  2.0000e+01  3.9883e+02]\n",
      "best_step_index: [3, 2]\n",
      " \n",
      "final_solution= [-30.     8.84   9.75 252.82   0.     4.54   9.27 313.96 -22.45  10.\n",
      "  12.04 301.08 -30.     9.25   1.   114.72] final_reward= 0.2967\n"
     ]
    }
   ],
   "source": [
    "trainner = CRLTrain(sub_episode_length=3, sub_episode_num_single_batch=3, env_num=2)\n",
    "trainner.set_environments(haaqi_reward_muti_fn)\n",
    "trainner.train(update_num=3, eval_intv=1)"
   ]
  },
  {
   "cell_type": "code",
   "execution_count": null,
   "id": "1ecbe26a-4124-442a-86df-03c71a20930d",
   "metadata": {},
   "outputs": [],
   "source": []
  },
  {
   "cell_type": "code",
   "execution_count": null,
   "id": "76afb4ac-7058-4058-acc5-8b8397c1857f",
   "metadata": {},
   "outputs": [],
   "source": []
  }
 ],
 "metadata": {
  "kernelspec": {
   "display_name": "Python 3 (ipykernel)",
   "language": "python",
   "name": "python3"
  },
  "language_info": {
   "codemirror_mode": {
    "name": "ipython",
    "version": 3
   },
   "file_extension": ".py",
   "mimetype": "text/x-python",
   "name": "python",
   "nbconvert_exporter": "python",
   "pygments_lexer": "ipython3",
   "version": "3.10.18"
  }
 },
 "nbformat": 4,
 "nbformat_minor": 5
}
