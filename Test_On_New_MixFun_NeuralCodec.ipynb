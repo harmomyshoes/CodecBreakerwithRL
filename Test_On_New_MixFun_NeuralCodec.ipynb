{
 "cells": [
  {
   "cell_type": "code",
   "execution_count": 1,
   "id": "e06111c1-2e57-4a98-b1ec-bc3eacb44423",
   "metadata": {},
   "outputs": [],
   "source": [
    "import numpy as np\n",
    "import pandas as pd\n",
    "from CODECbreakCode.AudioMixer import FullTrackAudioMixer\n",
    "import CODECbreakCode.Evaluator as Evaluator\n",
    "from CODECbreakCode.Evaluator import MeasureHAAQIOutput\n",
    "import argparse\n",
    "from Optimiser.config import get_config, normalize_action, denormalize_action"
   ]
  },
  {
   "cell_type": "code",
   "execution_count": 2,
   "id": "92dcb9ae-3a3d-4e7d-b5a6-cec25f459cde",
   "metadata": {},
   "outputs": [
    {
     "name": "stdout",
     "output_type": "stream",
     "text": [
      "Vocal duration orginal is 17.462666666666667 seconds, now is the 8.0, the audio changing to the MONO\n",
      "Drum duration orginal is 17.462666666666667 seconds, now is the 8.0, the audio changing to the MONO\n",
      "Bass duration orginal is 17.462666666666667 seconds, now is the 8.0, the audio changing to the MONO\n",
      "Other duration orginal is 17.462666666666667 seconds, now is the 8.0,  the audio changing to the MONO\n",
      "Mixing File Load Sucessful\n",
      "Referece_File:/home/codecrack/CodecBreakerwithRL/AudioEX/Reggae/Mixing_Result/Reference_IN_FULL.wav\n"
     ]
    },
    {
     "name": "stderr",
     "output_type": "stream",
     "text": [
      "/root/anaconda3/envs/codecbreak/lib/python3.10/site-packages/audiomentations/core/transforms_interface.py:107: UserWarning: Warning: input samples dtype is np.float64. Converting to np.float32\n",
      "  warnings.warn(\n"
     ]
    }
   ],
   "source": [
    "Reggae_Mixing_Path = '/home/codecrack/CodecBreakerwithRL/AudioEX/Reggae'\n",
    "Reggae_Noise_Generator_NC = FullTrackAudioMixer(Reggae_Mixing_Path)\n",
    "#Noise_Generator_MP3.ManipulateInitGAIN([0, 0, 0, 0])\n",
    "Reggae_Referece_File = Reggae_Noise_Generator_NC.TestDynNoisedFullTrack([0]*24,\"Reference_IN_FULL.wav\",isNormalised=False,isCompensated=True)\n",
    "print(f\"Referece_File:{Reggae_Referece_File}\")"
   ]
  },
  {
   "cell_type": "code",
   "execution_count": 3,
   "id": "25a13b73-61b1-451a-96f3-03b776c15d28",
   "metadata": {},
   "outputs": [
    {
     "name": "stdout",
     "output_type": "stream",
     "text": [
      "Opt_fold: /home/codecrack/CodecBreakerwithRL/AudioEX/Reggae/Mixing_Result\n",
      "Decoded audio: torch.Size([1, 2, 384000])\n",
      "Reggae_Referece_AACFile:/home/codecrack/CodecBreakerwithRL/AudioEX/Reggae/Mixing_Result/Mixing_Result_NeuralCodec_Wav/Reference_IN_FULL_24kbps.wav\n"
     ]
    }
   ],
   "source": [
    "Reggae_Referece_NCFile = Evaluator.NeuralCodecCompress(Reggae_Referece_File,24)\n",
    "print(f\"Reggae_Referece_AACFile:{Reggae_Referece_NCFile}\")"
   ]
  },
  {
   "cell_type": "code",
   "execution_count": 4,
   "id": "f1820f9e-afd5-4ea5-9457-971b1527cc54",
   "metadata": {},
   "outputs": [
    {
     "data": {
      "text/plain": [
       "0.974981747709733"
      ]
     },
     "execution_count": 4,
     "metadata": {},
     "output_type": "execute_result"
    }
   ],
   "source": [
    "####initalise the Haaqi\n",
    "MeasureHAAQI = MeasureHAAQIOutput(Reggae_Referece_NCFile)#Initilize the HAAQI with a permanent reference\n",
    "MeasureHAAQI.MeasureHAQQIOutput(Reggae_Referece_NCFile) #Test on how far from itself to itself"
   ]
  },
  {
   "cell_type": "code",
   "execution_count": 9,
   "id": "bf808b17-d4fd-4dbf-a9b7-f68a7b35e9a8",
   "metadata": {},
   "outputs": [],
   "source": [
    "import tempfile\n",
    "import os\n",
    "BASE_DIR = \"/home/codecrack/CodecBreakerwithRL/AudioEX/Reggae/\"\n",
    "TMP_SUBDIR = os.path.join(BASE_DIR, \"tmp\")\n",
    "\n",
    "# make sure it exists once at startup:\n",
    "os.makedirs(TMP_SUBDIR, exist_ok=True)\n",
    "def haaqi_reward_muti_fn(solution: np.ndarray, is_normalised=True) -> float:\n",
    "    if is_normalised:\n",
    "        solution = denormalize_action(solution)\n",
    "#    print(f'solution:{solution}, the type is {type(solution), type(solution[0])}')\n",
    " \n",
    "    # Create a unique temp‐file name\n",
    "    fd, degradated_filename = tempfile.mkstemp(prefix=\"dynC_\", suffix=\".wav\")\n",
    "    os.close(fd)  # we’ll let your compressor write to that path\n",
    "\n",
    "    try:\n",
    "        solution = list(solution)\n",
    "        gener_Audio = Reggae_Noise_Generator_NC.TestDynNoisedFullTrack(solution,degradated_filename,isNormalised=False,isCompensated=True)\n",
    "        gener_Audio_mp3 = Evaluator.NeuralCodecCompress(gener_Audio, 24)\n",
    "        score = MeasureHAAQI.MeasureHAQQIOutput(gener_Audio_mp3)\n",
    "    finally:\n",
    "        # clean up\n",
    "        try:\n",
    "            os.remove(degradated_filename)\n",
    "        except OSError:\n",
    "            pass\n",
    "\n",
    "    return round(1 - score, 4)"
   ]
  },
  {
   "cell_type": "markdown",
   "id": "1a021b2f-d2f4-4fdc-bba5-16abe4e020d9",
   "metadata": {},
   "source": [
    "### PPO Trainning"
   ]
  },
  {
   "cell_type": "code",
   "execution_count": 6,
   "id": "59cb7ec6-f8d0-41be-a61c-b11db4f757d1",
   "metadata": {},
   "outputs": [],
   "source": [
    "import Optimiser"
   ]
  },
  {
   "cell_type": "code",
   "execution_count": 7,
   "id": "f410b8e9-9862-4773-910a-1b545deaf652",
   "metadata": {},
   "outputs": [
    {
     "name": "stderr",
     "output_type": "stream",
     "text": [
      "2025-08-10 16:19:54.917310: I tensorflow/core/util/port.cc:113] oneDNN custom operations are on. You may see slightly different numerical results due to floating-point round-off errors from different computation orders. To turn them off, set the environment variable `TF_ENABLE_ONEDNN_OPTS=0`.\n",
      "2025-08-10 16:19:55.134436: E external/local_xla/xla/stream_executor/cuda/cuda_dnn.cc:9261] Unable to register cuDNN factory: Attempting to register factory for plugin cuDNN when one has already been registered\n",
      "2025-08-10 16:19:55.134481: E external/local_xla/xla/stream_executor/cuda/cuda_fft.cc:607] Unable to register cuFFT factory: Attempting to register factory for plugin cuFFT when one has already been registered\n",
      "2025-08-10 16:19:55.166261: E external/local_xla/xla/stream_executor/cuda/cuda_blas.cc:1515] Unable to register cuBLAS factory: Attempting to register factory for plugin cuBLAS when one has already been registered\n",
      "2025-08-10 16:19:55.239610: I tensorflow/core/platform/cpu_feature_guard.cc:182] This TensorFlow binary is optimized to use available CPU instructions in performance-critical operations.\n",
      "To enable the following instructions: AVX2 AVX_VNNI FMA, in other operations, rebuild TensorFlow with the appropriate compiler flags.\n",
      "2025-08-10 16:19:56.246233: W tensorflow/compiler/tf2tensorrt/utils/py_utils.cc:38] TF-TRT Warning: Could not find TensorRT\n",
      "2025-08-10 16:19:57.940639: E external/local_xla/xla/stream_executor/cuda/cuda_driver.cc:274] failed call to cuInit: CUDA_ERROR_NO_DEVICE: no CUDA-capable device is detected\n"
     ]
    }
   ],
   "source": [
    "#import Optimiser.continous_RL_train_PPO\n",
    "from Optimiser.continous_RL_train_PPO import continous_RL_train_PPO as CRLTrain"
   ]
  },
  {
   "cell_type": "code",
   "execution_count": 10,
   "id": "a65a963c-be3c-4605-8e84-e13afddcfce1",
   "metadata": {
    "scrolled": true
   },
   "outputs": [
    {
     "name": "stdout",
     "output_type": "stream",
     "text": [
      "number of sub_episodes used for a single param update: 3\n",
      "train_env.batch_size = parallel environment number =  1\n",
      "update_num: 2, eval_intv: 2\n"
     ]
    },
    {
     "name": "stderr",
     "output_type": "stream",
     "text": [
      "/root/anaconda3/envs/codecbreak/lib/python3.10/site-packages/audiomentations/core/transforms_interface.py:107: UserWarning: Warning: input samples dtype is np.float64. Converting to np.float32\n",
      "  warnings.warn(\n"
     ]
    },
    {
     "name": "stdout",
     "output_type": "stream",
     "text": [
      "Opt_fold: /home/codecrack/CodecBreakerwithRL/AudioEX/Reggae/Mixing_Result/tmp\n",
      "Decoded audio: torch.Size([1, 2, 384000])\n"
     ]
    },
    {
     "name": "stderr",
     "output_type": "stream",
     "text": [
      "/root/anaconda3/envs/codecbreak/lib/python3.10/site-packages/audiomentations/core/transforms_interface.py:107: UserWarning: Warning: input samples dtype is np.float64. Converting to np.float32\n",
      "  warnings.warn(\n"
     ]
    },
    {
     "name": "stdout",
     "output_type": "stream",
     "text": [
      "Opt_fold: /home/codecrack/CodecBreakerwithRL/AudioEX/Reggae/Mixing_Result/tmp\n",
      "Decoded audio: torch.Size([1, 2, 384000])\n"
     ]
    },
    {
     "name": "stderr",
     "output_type": "stream",
     "text": [
      "/root/anaconda3/envs/codecbreak/lib/python3.10/site-packages/audiomentations/core/transforms_interface.py:107: UserWarning: Warning: input samples dtype is np.float64. Converting to np.float32\n",
      "  warnings.warn(\n"
     ]
    },
    {
     "name": "stdout",
     "output_type": "stream",
     "text": [
      "Opt_fold: /home/codecrack/CodecBreakerwithRL/AudioEX/Reggae/Mixing_Result/tmp\n",
      "Decoded audio: torch.Size([1, 2, 384000])\n"
     ]
    },
    {
     "name": "stderr",
     "output_type": "stream",
     "text": [
      "/root/anaconda3/envs/codecbreak/lib/python3.10/site-packages/audiomentations/core/transforms_interface.py:107: UserWarning: Warning: input samples dtype is np.float64. Converting to np.float32\n",
      "  warnings.warn(\n"
     ]
    },
    {
     "name": "stdout",
     "output_type": "stream",
     "text": [
      "Opt_fold: /home/codecrack/CodecBreakerwithRL/AudioEX/Reggae/Mixing_Result/tmp\n",
      "Decoded audio: torch.Size([1, 2, 384000])\n"
     ]
    },
    {
     "name": "stderr",
     "output_type": "stream",
     "text": [
      "/root/anaconda3/envs/codecbreak/lib/python3.10/site-packages/audiomentations/core/transforms_interface.py:107: UserWarning: Warning: input samples dtype is np.float64. Converting to np.float32\n",
      "  warnings.warn(\n"
     ]
    },
    {
     "name": "stdout",
     "output_type": "stream",
     "text": [
      "Opt_fold: /home/codecrack/CodecBreakerwithRL/AudioEX/Reggae/Mixing_Result/tmp\n",
      "Decoded audio: torch.Size([1, 2, 384000])\n"
     ]
    },
    {
     "name": "stderr",
     "output_type": "stream",
     "text": [
      "/root/anaconda3/envs/codecbreak/lib/python3.10/site-packages/audiomentations/core/transforms_interface.py:107: UserWarning: Warning: input samples dtype is np.float64. Converting to np.float32\n",
      "  warnings.warn(\n"
     ]
    },
    {
     "name": "stdout",
     "output_type": "stream",
     "text": [
      "Opt_fold: /home/codecrack/CodecBreakerwithRL/AudioEX/Reggae/Mixing_Result/tmp\n",
      "Decoded audio: torch.Size([1, 2, 384000])\n",
      "WARNING:tensorflow:From /home/codecrack/CodecBreakerwithRL/Optimiser/continous_RL_train_PPO.py:140: ReplayBuffer.gather_all (from tf_agents.replay_buffers.replay_buffer) is deprecated and will be removed in a future version.\n",
      "Instructions for updating:\n",
      "Use `as_dataset(..., single_deterministic_pass=True)` instead.\n",
      "Epoch 0: policy_loss=-0.098  value_loss=82.433  entropy_loss=-0.022  clip_fraction=0.333\n",
      "final reward before udpate: -1000000000.0\n",
      "final reward after udpate: 0.5797\n",
      "updated final_solution= [ 60.     2.29 -22.78   1.14   1.   257.64  35.     3.     0.     1.95\n",
      "   1.5  228.79  35.     3.   -25.     4.8    1.   200.    60.     3.\n",
      " -12.59   5.     1.   200.  ]\n",
      "train_step no.= 0\n",
      "best_solution of this generation= [ 60.     2.29 -22.78   1.14   1.   257.64  35.     3.     0.     1.95\n",
      "   1.5  228.79  35.     3.   -25.     4.8    1.   200.    60.     3.\n",
      " -12.59   5.     1.   200.  ]\n",
      "best step reward= 0.5797\n",
      "avg step reward= 0.55595\n",
      "obs_mean: [ 60.     2.16 -14.88   2.27   4.13 262.16  43.11   2.36 -13.25   3.33\n",
      "   4.38 348.46  44.66   2.75 -23.75   3.03   7.06 368.04  52.89   1.79\n",
      " -11.63   4.49   3.59 284.07]\n",
      "obs_std: [ 60.     2.51  -7.74   3.87  10.   499.15  55.93   3.     0.     4.31\n",
      "   9.89 500.    60.     3.    -3.82   4.17   9.73 500.    60.     2.59\n",
      "   0.     4.71  10.   434.74]\n",
      "best_step_index: [0, 2]\n",
      "until now, best final_solution= [ 60.     2.29 -22.78   1.14   1.   257.64  35.     3.     0.     1.95\n",
      "   1.5  228.79  35.     3.   -25.     4.8    1.   200.    60.     3.\n",
      " -12.59   5.     1.   200.  ] best final_reward= 0.5797\n",
      " \n"
     ]
    },
    {
     "name": "stderr",
     "output_type": "stream",
     "text": [
      "/root/anaconda3/envs/codecbreak/lib/python3.10/site-packages/audiomentations/core/transforms_interface.py:107: UserWarning: Warning: input samples dtype is np.float64. Converting to np.float32\n",
      "  warnings.warn(\n"
     ]
    },
    {
     "name": "stdout",
     "output_type": "stream",
     "text": [
      "Opt_fold: /home/codecrack/CodecBreakerwithRL/AudioEX/Reggae/Mixing_Result/tmp\n",
      "Decoded audio: torch.Size([1, 2, 384000])\n"
     ]
    },
    {
     "name": "stderr",
     "output_type": "stream",
     "text": [
      "/root/anaconda3/envs/codecbreak/lib/python3.10/site-packages/audiomentations/core/transforms_interface.py:107: UserWarning: Warning: input samples dtype is np.float64. Converting to np.float32\n",
      "  warnings.warn(\n"
     ]
    },
    {
     "name": "stdout",
     "output_type": "stream",
     "text": [
      "Opt_fold: /home/codecrack/CodecBreakerwithRL/AudioEX/Reggae/Mixing_Result/tmp\n",
      "Decoded audio: torch.Size([1, 2, 384000])\n"
     ]
    },
    {
     "name": "stderr",
     "output_type": "stream",
     "text": [
      "/root/anaconda3/envs/codecbreak/lib/python3.10/site-packages/audiomentations/core/transforms_interface.py:107: UserWarning: Warning: input samples dtype is np.float64. Converting to np.float32\n",
      "  warnings.warn(\n"
     ]
    },
    {
     "name": "stdout",
     "output_type": "stream",
     "text": [
      "Opt_fold: /home/codecrack/CodecBreakerwithRL/AudioEX/Reggae/Mixing_Result/tmp\n",
      "Decoded audio: torch.Size([1, 2, 384000])\n"
     ]
    },
    {
     "name": "stderr",
     "output_type": "stream",
     "text": [
      "/root/anaconda3/envs/codecbreak/lib/python3.10/site-packages/audiomentations/core/transforms_interface.py:107: UserWarning: Warning: input samples dtype is np.float64. Converting to np.float32\n",
      "  warnings.warn(\n"
     ]
    },
    {
     "name": "stdout",
     "output_type": "stream",
     "text": [
      "Opt_fold: /home/codecrack/CodecBreakerwithRL/AudioEX/Reggae/Mixing_Result/tmp\n",
      "Decoded audio: torch.Size([1, 2, 384000])\n"
     ]
    },
    {
     "name": "stderr",
     "output_type": "stream",
     "text": [
      "/root/anaconda3/envs/codecbreak/lib/python3.10/site-packages/audiomentations/core/transforms_interface.py:107: UserWarning: Warning: input samples dtype is np.float64. Converting to np.float32\n",
      "  warnings.warn(\n"
     ]
    },
    {
     "name": "stdout",
     "output_type": "stream",
     "text": [
      "Opt_fold: /home/codecrack/CodecBreakerwithRL/AudioEX/Reggae/Mixing_Result/tmp\n",
      "Decoded audio: torch.Size([1, 2, 384000])\n"
     ]
    },
    {
     "name": "stderr",
     "output_type": "stream",
     "text": [
      "/root/anaconda3/envs/codecbreak/lib/python3.10/site-packages/audiomentations/core/transforms_interface.py:107: UserWarning: Warning: input samples dtype is np.float64. Converting to np.float32\n",
      "  warnings.warn(\n"
     ]
    },
    {
     "name": "stdout",
     "output_type": "stream",
     "text": [
      "Opt_fold: /home/codecrack/CodecBreakerwithRL/AudioEX/Reggae/Mixing_Result/tmp\n",
      "Decoded audio: torch.Size([1, 2, 384000])\n",
      "Epoch 1: policy_loss=-0.118  value_loss=3.163  entropy_loss=-0.022  clip_fraction=0.667\n",
      "final_solution= [ 60.     2.29 -22.78   1.14   1.   257.64  35.     3.     0.     1.95\n",
      "   1.5  228.79  35.     3.   -25.     4.8    1.   200.    60.     3.\n",
      " -12.59   5.     1.   200.  ] final_reward= 0.5797\n"
     ]
    }
   ],
   "source": [
    "trainner = CRLTrain(sub_episode_length=3, sub_episode_num_single_batch=3, env_num=1)\n",
    "trainner.set_environments(haaqi_reward_muti_fn)\n",
    "trainner.train(update_num=2, eval_intv=2)"
   ]
  },
  {
   "cell_type": "code",
   "execution_count": 12,
   "id": "ba6a75e9-485e-4f28-9aef-f67475f26b25",
   "metadata": {},
   "outputs": [
    {
     "name": "stderr",
     "output_type": "stream",
     "text": [
      "/root/anaconda3/envs/codecbreak/lib/python3.10/site-packages/audiomentations/core/transforms_interface.py:107: UserWarning: Warning: input samples dtype is np.float64. Converting to np.float32\n",
      "  warnings.warn(\n"
     ]
    },
    {
     "name": "stdout",
     "output_type": "stream",
     "text": [
      "Opt_fold: /home/codecrack/CodecBreakerwithRL/AudioEX/Reggae/Mixing_Result/tmp\n",
      "Decoded audio: torch.Size([1, 2, 384000])\n"
     ]
    },
    {
     "data": {
      "text/plain": [
       "0.5741"
      ]
     },
     "execution_count": 12,
     "metadata": {},
     "output_type": "execute_result"
    }
   ],
   "source": [
    "solution =[60.,2.29,-22.78,1.14,1.,257.64,35.,3.,0.,1.95,1.5,228.79,35.,3.,-25.,4.8, 1.,200., 60.,3.,-12.59,5.,1.,200.,]\n",
    "haaqi_reward_muti_fn(solution, is_normalised=False)"
   ]
  },
  {
   "cell_type": "code",
   "execution_count": 13,
   "id": "ea96aac2-4ced-4214-88f0-a00d5f9c098b",
   "metadata": {},
   "outputs": [
    {
     "name": "stdout",
     "output_type": "stream",
     "text": [
      "Cleared all contents in '/home/codecrack/CodecBreakerwithRL/AudioEX/Reggae/Mixing_Result'.\n",
      "Cleared all contents in '/home/codecrack/CodecBreakerwithRL/AudioEX/Reggae/Mixing_Result_Mp3'.\n",
      "Cleared all contents in '/home/codecrack/CodecBreakerwithRL/AudioEX/Reggae/Mixing_Result_Mp3_Wav'.\n",
      "Cleared all contents in '/home/codecrack/CodecBreakerwithRL/AudioEX/Reggae/Mixing_Result_AAC'.\n",
      "Cleared all contents in '/home/codecrack/CodecBreakerwithRL/AudioEX/Reggae/Mixing_Result_AAC_Wav'.\n"
     ]
    }
   ],
   "source": [
    "Reggae_Noise_Generator_NC.EraseTheMixing()"
   ]
  },
  {
   "cell_type": "code",
   "execution_count": null,
   "id": "845013ae-970f-4733-9ebc-bfcea417fcfe",
   "metadata": {},
   "outputs": [],
   "source": []
  }
 ],
 "metadata": {
  "kernelspec": {
   "display_name": "Python 3 (ipykernel)",
   "language": "python",
   "name": "python3"
  },
  "language_info": {
   "codemirror_mode": {
    "name": "ipython",
    "version": 3
   },
   "file_extension": ".py",
   "mimetype": "text/x-python",
   "name": "python",
   "nbconvert_exporter": "python",
   "pygments_lexer": "ipython3",
   "version": "3.10.18"
  }
 },
 "nbformat": 4,
 "nbformat_minor": 5
}
