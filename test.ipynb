{
 "cells": [
  {
   "cell_type": "markdown",
   "id": "f6720e15-4ea6-4d47-9fe1-40dca2c7acb8",
   "metadata": {},
   "source": [
    "### Testing the ENV"
   ]
  },
  {
   "cell_type": "markdown",
   "id": "d01c0095-52f9-49e5-a36a-04bffdf2e748",
   "metadata": {
    "jp-MarkdownHeadingCollapsed": true
   },
   "source": [
    "#### 1.Discrete Space"
   ]
  },
  {
   "cell_type": "code",
   "execution_count": 1,
   "id": "74fd7c06-a4eb-4b4a-ac74-2eb2da8fc6c9",
   "metadata": {},
   "outputs": [],
   "source": [
    "def sample_action(action_spec):\n",
    "    \"\"\"Draw a random integer action that fits the BoundedArraySpec.\"\"\"\n",
    "    low  = action_spec.minimum\n",
    "    high = action_spec.maximum\n",
    "    # note: high is inclusive in the BoundedArraySpec, so +1 for randint\n",
    "    return np.random.randint(low, high + 1, size=action_spec.shape, dtype=action_spec.dtype)"
   ]
  },
  {
   "cell_type": "code",
   "execution_count": 2,
   "id": "5bc722b6-c835-482b-ae56-fc8d3a016c63",
   "metadata": {},
   "outputs": [
    {
     "name": "stderr",
     "output_type": "stream",
     "text": [
      "2025-07-09 16:35:57.343112: I tensorflow/core/util/port.cc:113] oneDNN custom operations are on. You may see slightly different numerical results due to floating-point round-off errors from different computation orders. To turn them off, set the environment variable `TF_ENABLE_ONEDNN_OPTS=0`.\n",
      "2025-07-09 16:35:57.377651: E external/local_xla/xla/stream_executor/cuda/cuda_dnn.cc:9261] Unable to register cuDNN factory: Attempting to register factory for plugin cuDNN when one has already been registered\n",
      "2025-07-09 16:35:57.377684: E external/local_xla/xla/stream_executor/cuda/cuda_fft.cc:607] Unable to register cuFFT factory: Attempting to register factory for plugin cuFFT when one has already been registered\n",
      "2025-07-09 16:35:57.379155: E external/local_xla/xla/stream_executor/cuda/cuda_blas.cc:1515] Unable to register cuBLAS factory: Attempting to register factory for plugin cuBLAS when one has already been registered\n",
      "2025-07-09 16:35:57.386862: I tensorflow/core/platform/cpu_feature_guard.cc:182] This TensorFlow binary is optimized to use available CPU instructions in performance-critical operations.\n",
      "To enable the following instructions: AVX2 AVX_VNNI FMA, in other operations, rebuild TensorFlow with the appropriate compiler flags.\n",
      "2025-07-09 16:35:57.853061: W tensorflow/compiler/tf2tensorrt/utils/py_utils.cc:38] TF-TRT Warning: Could not find TensorRT\n"
     ]
    }
   ],
   "source": [
    "import Optimiser\n",
    "import Optimiser.env\n",
    "from Optimiser.env import Env_Discrete\n",
    "import numpy as np\n",
    "from tf_agents.environments import py_environment\n",
    "from tf_agents.specs import array_spec\n",
    "from tf_agents.trajectories import time_step as ts\n",
    "from tf_agents.trajectories.time_step import StepType"
   ]
  },
  {
   "cell_type": "code",
   "execution_count": 3,
   "id": "38a5188c-b981-40b6-9de3-a8f95cb48b87",
   "metadata": {},
   "outputs": [],
   "source": [
    "def my_weird_reward(x: np.ndarray) -> float:\n",
    "    # ... whatever you want\n",
    "    return -np.sum((x-3)**2)"
   ]
  },
  {
   "cell_type": "code",
   "execution_count": 6,
   "id": "06459f27-f9fe-487b-8d42-c02e0cffb629",
   "metadata": {},
   "outputs": [
    {
     "name": "stdout",
     "output_type": "stream",
     "text": [
      "Action spec: BoundedArraySpec(shape=(4,), dtype=dtype('int32'), name='action', minimum=[0 0 0 0], maximum=[ 30   8  20 600])\n",
      "Observation spec: BoundedArraySpec(shape=(4,), dtype=dtype('float32'), name='observation', minimum=-3.4028234663852886e+38, maximum=3.4028234663852886e+38)\n",
      "\n",
      "After reset:\n",
      "  step_type: FIRST\n",
      "  obs      : [  1.   0.   1. -50.]\n",
      "  reward   : 0.0\n",
      "  discount : 1.0\n",
      "\n",
      "Stepping 5 times with random actions:\n",
      " Step  1: action=[23  1 15 35] → obs=[ 9.0e+00 -1.5e+00  3.5e+00 -2.7e+03], reward=-7306265.5000, step_type=MID\n",
      " Step  2: action=[30  2 18 21] → obs=[ 2.40e+01 -2.50e+00  7.50e+00 -5.49e+03], reward=-30173540.0000, step_type=MID\n",
      " Step  3: action=[ 27   2  11 148] → obs=[ 3.60e+01 -3.50e+00  8.00e+00 -7.01e+03], reward=-49183324.0000, step_type=MID\n",
      " Step  4: action=[  0   5   3 163] → obs=[ 2.10e+01 -3.00e+00  4.50e+00 -8.38e+03], reward=-70275048.0000, step_type=MID\n",
      " Step  5: action=[ 18   7  11 350] → obs=[ 2.40e+01 -1.50e+00  5.00e+00 -7.88e+03], reward=-62142156.0000, step_type=MID\n"
     ]
    }
   ],
   "source": [
    "env = Env_Discrete(reward_fn = my_weird_reward)\n",
    "\n",
    "# 1) check specs\n",
    "a_spec = env.action_spec()\n",
    "o_spec = env.observation_spec()\n",
    "print(\"Action spec:\", a_spec)\n",
    "print(\"Observation spec:\", o_spec)\n",
    "\n",
    "# 2) reset\n",
    "ts = env.reset()\n",
    "print(\"\\nAfter reset:\")\n",
    "print(\"  step_type:\", \"FIRST\" if ts.step_type == StepType.FIRST else ts.step_type)\n",
    "print(\"  obs      :\", ts.observation)\n",
    "print(\"  reward   :\", ts.reward)\n",
    "print(\"  discount :\", ts.discount)\n",
    "\n",
    "# 3) take 5 random steps\n",
    "print(\"\\nStepping 5 times with random actions:\")\n",
    "for i in range(5):\n",
    "    a = sample_action(a_spec)\n",
    "    ts = env.step(a)\n",
    "    st = (\"MID\" if ts.step_type == StepType.MID else\n",
    "          \"LAST\" if ts.step_type == StepType.LAST else\n",
    "          ts.step_type)\n",
    "    print(f\" Step {i+1:>2}: action={a} → obs={ts.observation}, reward={ts.reward:.4f}, step_type={st}\")\n",
    "    if ts.step_type == StepType.LAST:\n",
    "        break\n"
   ]
  },
  {
   "cell_type": "code",
   "execution_count": 7,
   "id": "50923384-b9e8-47c9-a65c-b96b95e83080",
   "metadata": {},
   "outputs": [
    {
     "data": {
      "text/plain": [
       "TimeStep(\n",
       "{'step_type': array(1, dtype=int32),\n",
       " 'reward': array(-54509280., dtype=float32),\n",
       " 'discount': array(1., dtype=float32),\n",
       " 'observation': array([ 2.70e+01,  0.00e+00,  5.50e+00, -7.38e+03], dtype=float32)})"
      ]
     },
     "execution_count": 7,
     "metadata": {},
     "output_type": "execute_result"
    }
   ],
   "source": [
    "env.step(a)"
   ]
  },
  {
   "cell_type": "code",
   "execution_count": 8,
   "id": "3abcf5ee-05c0-45e2-b6ac-e9a6ea054490",
   "metadata": {},
   "outputs": [
    {
     "data": {
      "text/plain": [
       "array([ 31,   9,  21, 601], dtype=int32)"
      ]
     },
     "execution_count": 8,
     "metadata": {},
     "output_type": "execute_result"
    }
   ],
   "source": [
    "a_spec.maximum - a_spec.minimum + 1"
   ]
  },
  {
   "cell_type": "code",
   "execution_count": 9,
   "id": "c5ea513e-bfaf-408b-8f42-732ba2ad3efb",
   "metadata": {},
   "outputs": [
    {
     "data": {
      "text/plain": [
       "0"
      ]
     },
     "execution_count": 9,
     "metadata": {},
     "output_type": "execute_result"
    }
   ],
   "source": [
    "np.sum(a_spec.minimum)"
   ]
  },
  {
   "cell_type": "markdown",
   "id": "d51d03b7-9765-4b77-999f-b19f68511fee",
   "metadata": {
    "jp-MarkdownHeadingCollapsed": true
   },
   "source": [
    "#### 2.Continouse Space"
   ]
  },
  {
   "cell_type": "code",
   "execution_count": null,
   "id": "8479f43b-5ff9-4199-bfc2-c0dbf4385248",
   "metadata": {},
   "outputs": [],
   "source": [
    "def sample_continuous(action_spec):\n",
    "    \"\"\"Uniformly sample a float vector in [minimum, maximum].\"\"\"\n",
    "    low, high = action_spec.minimum, action_spec.maximum\n",
    "    return np.random.uniform(low, high, size=action_spec.shape).astype(action_spec.dtype)"
   ]
  },
  {
   "cell_type": "code",
   "execution_count": null,
   "id": "f7c9358b-4396-4583-9a60-6ca461bba72b",
   "metadata": {},
   "outputs": [],
   "source": [
    "env = Env_Continue()\n",
    "\n",
    "# 1) check specs\n",
    "a_spec = env.action_spec()\n",
    "o_spec = env.observation_spec()\n",
    "print(\"Action spec:\", a_spec)\n",
    "print(\"Observation spec:\", o_spec)\n",
    "\n",
    "# 2) reset\n",
    "ts = env.reset()\n",
    "print(\"\\nAfter reset:\")\n",
    "print(\"  step_type:\", \"FIRST\" if ts.step_type == StepType.FIRST else ts.step_type)\n",
    "print(\"  obs      :\", ts.observation)\n",
    "print(\"  reward   :\", ts.reward)\n",
    "print(\"  discount :\", ts.discount)\n",
    "\n",
    "# 3) take 5 random steps\n",
    "print(\"\\nStepping 5 times with random actions:\")\n",
    "for i in range(5):\n",
    "    a = sample_continuous(a_spec)\n",
    "    ts = env.step(a)\n",
    "    st = (\"MID\" if ts.step_type == StepType.MID else\n",
    "          \"LAST\" if ts.step_type == StepType.LAST else\n",
    "          ts.step_type)\n",
    "    print(f\" Step {i+1:>2}: action={a} → obs={ts.observation}, reward={ts.reward:.4f}, step_type={st}\")\n",
    "    if ts.step_type == StepType.LAST:\n",
    "        break"
   ]
  },
  {
   "cell_type": "markdown",
   "id": "03a93f4e-7711-4696-a1c9-0819b3cb4c88",
   "metadata": {},
   "source": [
    "### End Env Test"
   ]
  },
  {
   "cell_type": "code",
   "execution_count": 10,
   "id": "468db71e-16c6-409a-a7af-5af2ca93c2df",
   "metadata": {},
   "outputs": [
    {
     "ename": "ModuleNotFoundError",
     "evalue": "No module named 'discrete_RL_train'",
     "output_type": "error",
     "traceback": [
      "\u001b[0;31m---------------------------------------------------------------------------\u001b[0m",
      "\u001b[0;31mModuleNotFoundError\u001b[0m                       Traceback (most recent call last)",
      "Cell \u001b[0;32mIn[10], line 1\u001b[0m\n\u001b[0;32m----> 1\u001b[0m \u001b[38;5;28;01mimport\u001b[39;00m\u001b[38;5;250m \u001b[39m\u001b[38;5;21;01mdiscrete_RL_train\u001b[39;00m\n\u001b[1;32m      2\u001b[0m \u001b[38;5;28;01mfrom\u001b[39;00m\u001b[38;5;250m \u001b[39m\u001b[38;5;21;01mdiscrete_RL_train\u001b[39;00m\u001b[38;5;250m \u001b[39m\u001b[38;5;28;01mimport\u001b[39;00m discrete_RL_train \u001b[38;5;28;01mas\u001b[39;00m RLTrain\n",
      "\u001b[0;31mModuleNotFoundError\u001b[0m: No module named 'discrete_RL_train'"
     ]
    }
   ],
   "source": [
    "import discrete_RL_train\n",
    "from discrete_RL_train import discrete_RL_train as RLTrain"
   ]
  },
  {
   "cell_type": "code",
   "execution_count": null,
   "id": "311ba30e-c03d-4f35-92c3-d77faca19bd7",
   "metadata": {},
   "outputs": [],
   "source": [
    "trainner = RLTrain()"
   ]
  },
  {
   "cell_type": "code",
   "execution_count": null,
   "id": "7c967465-cf26-44d1-b4d2-8c58ed3b9fe6",
   "metadata": {},
   "outputs": [],
   "source": [
    "trainner.train()"
   ]
  },
  {
   "cell_type": "code",
   "execution_count": null,
   "id": "08e35761-9f5f-4100-b429-67b3ec74e65f",
   "metadata": {},
   "outputs": [],
   "source": [
    "state = [1,2,3]"
   ]
  },
  {
   "cell_type": "code",
   "execution_count": null,
   "id": "fdc9262b-0ad5-4470-8580-1eec0fdc4be5",
   "metadata": {},
   "outputs": [],
   "source": [
    "-np.sum(np.square(state))"
   ]
  },
  {
   "cell_type": "code",
   "execution_count": null,
   "id": "78358b12-ff65-41eb-a343-496794c98f94",
   "metadata": {},
   "outputs": [],
   "source": [
    "np.square(state)"
   ]
  },
  {
   "cell_type": "code",
   "execution_count": null,
   "id": "a28e6f50-9c17-4cd8-8480-0e9d94dff976",
   "metadata": {},
   "outputs": [],
   "source": []
  }
 ],
 "metadata": {
  "kernelspec": {
   "display_name": "Python 3 (ipykernel)",
   "language": "python",
   "name": "python3"
  },
  "language_info": {
   "codemirror_mode": {
    "name": "ipython",
    "version": 3
   },
   "file_extension": ".py",
   "mimetype": "text/x-python",
   "name": "python",
   "nbconvert_exporter": "python",
   "pygments_lexer": "ipython3",
   "version": "3.10.18"
  }
 },
 "nbformat": 4,
 "nbformat_minor": 5
}
